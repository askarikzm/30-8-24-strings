{
 "cells": [
  {
   "cell_type": "markdown",
   "metadata": {},
   "source": [
    "Python assimgment no 2\n",
    "TOPIC: String Based Assignment Problem"
   ]
  },
  {
   "cell_type": "code",
   "execution_count": 14,
   "metadata": {},
   "outputs": [
    {
     "name": "stdout",
     "output_type": "stream",
     "text": [
      "ytspnkihaa\n"
     ]
    }
   ],
   "source": [
    "#question1\n",
    "s1=input(\"enter your string to reverse it\")\n",
    "#sorting function is not available in string so first convert in to list by type casting\n",
    "s1=list(s1)\n",
    "s1.sort(reverse=True)\n",
    "# using join function to make a  is used to concatenate the characters in the sorted list back into a single string.\n",
    "s1=\" \".join(s1)\n",
    "print(s1)"
   ]
  },
  {
   "cell_type": "code",
   "execution_count": 19,
   "metadata": {},
   "outputs": [
    {
     "name": "stdout",
     "output_type": "stream",
     "text": [
      "string is palindrome\n"
     ]
    }
   ],
   "source": [
    "#Question 2\n",
    "s1=input('enter your string to check if its is palindrome.')\n",
    "if s1[0::1]==s1[::-1]: #slicing forwad and reverse methoods to  check \n",
    "    print(\"string is palindrome\") \n",
    "else:\n",
    "    print(\"not a palindrome \")\n"
   ]
  },
  {
   "cell_type": "code",
   "execution_count": 25,
   "metadata": {},
   "outputs": [
    {
     "name": "stdout",
     "output_type": "stream",
     "text": [
      "HY ALI\n"
     ]
    }
   ],
   "source": [
    "#Question 3\n",
    "s1=input(\"enter string to convert into upper case\")\n",
    "s1=s1.upper() #according to a function defi it return a copy\n",
    "print(s1)"
   ]
  },
  {
   "cell_type": "code",
   "execution_count": 27,
   "metadata": {},
   "outputs": [
    {
     "name": "stdout",
     "output_type": "stream",
     "text": [
      "hy ali abbas\n"
     ]
    }
   ],
   "source": [
    "#Question 4\n",
    "s1=input(\"enter a string to make it lower case\")\n",
    "s1=s1.lower() #swaping string value by using s1.lower\n",
    "print(s1)"
   ]
  },
  {
   "cell_type": "code",
   "execution_count": 30,
   "metadata": {},
   "outputs": [
    {
     "name": "stdout",
     "output_type": "stream",
     "text": [
      "'no' of vowels present in string 0\n"
     ]
    }
   ],
   "source": [
    "#QUESTION 5\n",
    "s1=input(\"enter your string to count vowels\")\n",
    "check=0\n",
    "for char in s1: \n",
    "    if char in 'aeiouAEIOU': #in used to check if value present in string\n",
    "        check+=1\n",
    "\n",
    "print(\"'no' of vowels present in string\",check)\n",
    "\n",
    "\n",
    "    \n"
   ]
  },
  {
   "cell_type": "code",
   "execution_count": 31,
   "metadata": {},
   "outputs": [
    {
     "name": "stdout",
     "output_type": "stream",
     "text": [
      "no of consonants in string 13\n"
     ]
    }
   ],
   "source": [
    "#Question 6\n",
    "s1=input(\"enter your string to count consonants in string\")\n",
    "count=0\n",
    "for char in s1:\n",
    "    if char in 'BCDFGHJKLMNPQRSTVWXYZbcdfghjklmnpqrstvwxyz' : #in used to check if value present in string\n",
    "        count+=1\n",
    "\n",
    "print(\"no of consonants in string\",count)\n",
    "\n"
   ]
  },
  {
   "cell_type": "code",
   "execution_count": 38,
   "metadata": {},
   "outputs": [
    {
     "name": "stdout",
     "output_type": "stream",
     "text": [
      "hy askari\n"
     ]
    }
   ],
   "source": [
    "#QUESTION 7\n",
    "s1=\"   hy askari   \"\n",
    "s1=s1.strip() #strip used to remove whitesapce from left/right\n",
    "print(s1)"
   ]
  },
  {
   "cell_type": "code",
   "execution_count": 41,
   "metadata": {},
   "outputs": [
    {
     "name": "stdout",
     "output_type": "stream",
     "text": [
      "length of string equal = 6\n"
     ]
    }
   ],
   "source": [
    "#Question 8\n",
    "s1=input(\"enter a string to find its length\")\n",
    "length=0\n",
    "for char in s1: #for loop will work till element of string \n",
    " length+=1 #reassign till its elements/loop ended\n",
    "\n",
    "print(\"length of string equal =\",length)"
   ]
  },
  {
   "cell_type": "code",
   "execution_count": 45,
   "metadata": {},
   "outputs": [
    {
     "name": "stdout",
     "output_type": "stream",
     "text": [
      "not found!\n"
     ]
    }
   ],
   "source": [
    "#Question 9\n",
    "s1=input(\"input your string\")\n",
    "c=input(\"enter a character to find in a string\") #char is taken in string \n",
    "if s1.find(c)!= -1:\n",
    "    print(\"char exsit inside a string\")\n",
    "\n",
    "else:\n",
    "    print(\"not found!\")"
   ]
  },
  {
   "cell_type": "code",
   "execution_count": 53,
   "metadata": {},
   "outputs": [
    {
     "name": "stdout",
     "output_type": "stream",
     "text": [
      "my name is sabir\n"
     ]
    }
   ],
   "source": [
    "#Question 10\n",
    "s1=input(\"enter your string\") #input string\n",
    "s2=input(\"enter word to replace\") #replace word\n",
    "s3=input(\"replace with word\") #prevoius word\n",
    "s1=s1.replace(s3,s2) #.replace will replace it this string\n",
    "print(s1)\n"
   ]
  },
  {
   "cell_type": "code",
   "execution_count": 55,
   "metadata": {},
   "outputs": [
    {
     "name": "stdout",
     "output_type": "stream",
     "text": [
      "6\n"
     ]
    }
   ],
   "source": [
    "#Question 11\n",
    "s1=input(\"enter a random string\")\n",
    "s2=input(\"enter the word to check it occurence in a string\")\n",
    "s1=s1.count(s2)\n",
    "print(s1)\n"
   ]
  },
  {
   "cell_type": "code",
   "execution_count": 58,
   "metadata": {},
   "outputs": [
    {
     "name": "stdout",
     "output_type": "stream",
     "text": [
      "3\n"
     ]
    }
   ],
   "source": [
    "#Question 12  Find the first occurrence of a word in a string.\n",
    "s1=input(\"enter a string\")\n",
    "s2=input(\"enter a word to find its occurence\")\n",
    "s1=s1.find(s2)\n",
    "print(\"first occurence of a number is\",s1)\n"
   ]
  },
  {
   "cell_type": "code",
   "execution_count": 63,
   "metadata": {},
   "outputs": [
    {
     "name": "stdout",
     "output_type": "stream",
     "text": [
      "last occurence of a number is 12\n"
     ]
    }
   ],
   "source": [
    "#Question 13  Find the last occurrence of a word in a string.\n",
    "s1=input(\"enter a string\")\n",
    "s2=input(\"enter a word to find its last occurence\")\n",
    "s1=s1.rfind(s2)\n",
    "print(\"last occurence of a number is\",s1)"
   ]
  },
  {
   "cell_type": "code",
   "execution_count": 69,
   "metadata": {},
   "outputs": [
    {
     "name": "stdout",
     "output_type": "stream",
     "text": [
      "splits of word ['hy', 'hy', 'hyh']\n"
     ]
    },
    {
     "data": {
      "text/plain": [
       "list"
      ]
     },
     "execution_count": 69,
     "metadata": {},
     "output_type": "execute_result"
    }
   ],
   "source": [
    "#Question 14 Split a string into a list of words\n",
    "s1=input(\"enter your string \")\n",
    "s1=s1.split(' ',-1)\n",
    "print(\"splits of word\",s1)\n",
    "type(s1)"
   ]
  },
  {
   "cell_type": "code",
   "execution_count": 75,
   "metadata": {},
   "outputs": [
    {
     "name": "stdout",
     "output_type": "stream",
     "text": [
      "Joined string: hy,pakistan,pakistan\n"
     ]
    }
   ],
   "source": [
    "#Question  15\n",
    "s1 = input(\"Enter a separator: \")\n",
    "s2 = input(\"Enter a list of words (separated by spaces): \").split()\n",
    "\n",
    "# Join the list of words into a string using the specified separator\n",
    "result = s1.join(s2)\n",
    "print(\"Joined string:\", result)\n"
   ]
  },
  {
   "cell_type": "code",
   "execution_count": 79,
   "metadata": {},
   "outputs": [
    {
     "name": "stdout",
     "output_type": "stream",
     "text": [
      "hy@jupter@note@book\n"
     ]
    }
   ],
   "source": [
    "#Question  16 \n",
    "''' Convert a string where words are separated by spaces to one where words\n",
    "are separated by underscores'''\n",
    "\n",
    "s1=input(\"hy enter your string\")\n",
    "s1=s1.replace(\" \",'@')\n",
    "print(s1)\n",
    "\n"
   ]
  },
  {
   "cell_type": "code",
   "execution_count": 80,
   "metadata": {},
   "outputs": [
    {
     "name": "stdout",
     "output_type": "stream",
     "text": [
      "started with specific pharase and word\n"
     ]
    }
   ],
   "source": [
    "#Question 17\n",
    " #Check if a string starts with a specific word or phrase.\n",
    "s1=input(\"enter a specific word\")\n",
    "s2=input(\"enter specific pharse and word \")\n",
    "a=s1.startswith(s2)\n",
    "if a==1 :\n",
    "    print(\"started with specific pharase and word\")\n",
    "\n",
    "else:\n",
    "    print(\"doesnot start with given pharse and index\")\n"
   ]
  },
  {
   "cell_type": "code",
   "execution_count": 86,
   "metadata": {},
   "outputs": [
    {
     "name": "stdout",
     "output_type": "stream",
     "text": [
      "ended with specific pharase and word\n"
     ]
    }
   ],
   "source": [
    "#Question 18\n",
    "#Check if a string ends with a specific word or phrase.\n",
    "s1=input(\"enter your string\")\n",
    "s2=input(\"enter your pharse or words to check\")\n",
    "a=s1.endswith(s2)\n",
    "\n",
    "if a==1 :\n",
    "    print(\"ended with specific pharase and word\")\n",
    "\n",
    "else:\n",
    "    print(\"doesnot end with given pharse and index\")\n"
   ]
  },
  {
   "cell_type": "code",
   "execution_count": 95,
   "metadata": {},
   "outputs": [
    {
     "name": "stdout",
     "output_type": "stream",
     "text": [
      "Hy Pakistan\n"
     ]
    }
   ],
   "source": [
    "#Question 19 . Convert a string to title case\n",
    "s1=input(\"enter a string\")\n",
    "s2=s1.title()\n",
    "print(s2)"
   ]
  },
  {
   "cell_type": "code",
   "execution_count": 97,
   "metadata": {},
   "outputs": [
    {
     "name": "stdout",
     "output_type": "stream",
     "text": [
      "Longest word: pakistan\n",
      "Length of the longest word: 8\n"
     ]
    }
   ],
   "source": [
    "#Question 20 \n",
    "s1= input(\"Enter a sentence: \")\n",
    "\n",
    "# Split the sentence into a list of words\n",
    "s1 = s1.split()\n",
    "\n",
    "# Find the longest word in the list\n",
    "s1 = max(s1, key=len)\n",
    "\n",
    "print(\"Longest word:\", s1)\n",
    "print(\"Length of the longest word:\", len(s1))\n"
   ]
  },
  {
   "cell_type": "code",
   "execution_count": 98,
   "metadata": {},
   "outputs": [
    {
     "name": "stdout",
     "output_type": "stream",
     "text": [
      "shortest word hy\n",
      "short word length 2\n"
     ]
    }
   ],
   "source": [
    " #Find the shortest word in a string.\n",
    "s1=input(\"enter your string\")\n",
    "s1=s1.split()\n",
    "s1=min(s1,key=len)\n",
    "print(\"shortest word\",s1)\n",
    "print(\"short word length\",len(s1))\n"
   ]
  },
  {
   "cell_type": "code",
   "execution_count": 106,
   "metadata": {},
   "outputs": [
    {
     "name": "stdout",
     "output_type": "stream",
     "text": [
      "['hy', 'sabir', 'usman', 'pakistan', 'ali', 'haider']\n",
      "['haider', 'ali', 'pakistan', 'usman', 'sabir', 'hy']\n"
     ]
    }
   ],
   "source": [
    "s1=input(\"enter your string\")\n",
    "s1=s1.split()\n",
    "print(s1)\n",
    "s1.reverse()\n",
    "print(s1)"
   ]
  },
  {
   "cell_type": "code",
   "execution_count": 111,
   "metadata": {},
   "outputs": [
    {
     "name": "stdout",
     "output_type": "stream",
     "text": [
      "string is no alphanumeric\n"
     ]
    }
   ],
   "source": [
    "#Question 23\n",
    "s1=input(\"enter a string\")\n",
    "a=s1.isalnum() # as it return bool\n",
    "if a==1 :\n",
    "    print(\"string is alphanumeric \")\n",
    "else:\n",
    "    print(\"string is no alphanumeric\")\n"
   ]
  },
  {
   "cell_type": "code",
   "execution_count": 12,
   "metadata": {},
   "outputs": [
    {
     "name": "stdout",
     "output_type": "stream",
     "text": [
      "digits in the string are: 1\n"
     ]
    }
   ],
   "source": [
    "# Extract all digits from a string.\n",
    "x=input(\"enter your words to get from string\")\n",
    "digit=\"\"\n",
    "flag=True\n",
    "\n",
    "\n",
    "for i in x:\n",
    "    if i.isdigit() :\n",
    "          digit+=i\n",
    "          flag=True\n",
    "    else:\n",
    "        flage=False\n",
    "    \n",
    "if flag==True:\n",
    " print(\"digits in the string are:\",digit)\n",
    "else:\n",
    "    print(\"no digit found in word \",x)\n"
   ]
  },
  {
   "cell_type": "code",
   "execution_count": 15,
   "metadata": {},
   "outputs": [
    {
     "name": "stdout",
     "output_type": "stream",
     "text": [
      "alphabtes in string are india\n"
     ]
    }
   ],
   "source": [
    "#Extract all alphabets from a string.\n",
    "x=input(\"enter your string\")\n",
    "alphabets=\"\"\n",
    "for i in x:\n",
    "    if i.isalpha():\n",
    "        alphabets+=i\n",
    "\n",
    "print(\"alphabtes in string are\",alphabets)"
   ]
  },
  {
   "cell_type": "code",
   "execution_count": 17,
   "metadata": {},
   "outputs": [
    {
     "name": "stdout",
     "output_type": "stream",
     "text": [
      "number of upper case alphabtes in string are: 2\n"
     ]
    }
   ],
   "source": [
    "# Count the number of uppercase letters in a string.\n",
    "x=input(\"enter your desierd string\")\n",
    "count=0\n",
    "for i in x:\n",
    "    if i.isupper():\n",
    "        count=count+1\n",
    "        \n",
    "print(\"number of upper case alphabtes in string are:\",count)"
   ]
  },
  {
   "cell_type": "code",
   "execution_count": 18,
   "metadata": {},
   "outputs": [
    {
     "name": "stdout",
     "output_type": "stream",
     "text": [
      "number of lower case in string are 5\n"
     ]
    }
   ],
   "source": [
    "#  Count the number of lowercase letters in a string.\n",
    "x=input(\"enter your desiered string\")\n",
    "count=0\n",
    "for i in x:\n",
    "    if i.islower():\n",
    "        count=count+1\n",
    "print(\"number of lower case in string are\",count)"
   ]
  },
  {
   "cell_type": "code",
   "execution_count": 23,
   "metadata": {},
   "outputs": [
    {
     "name": "stdout",
     "output_type": "stream",
     "text": [
      "final result after swap case are aSKARi\n"
     ]
    }
   ],
   "source": [
    "#Swap the case of each character in a string.\n",
    "x=input(\"enter your desierd string:\")\n",
    "result=\"\"\n",
    "for i in x:\n",
    "    if i.islower():\n",
    "        result+=i.upper()\n",
    "    else:\n",
    "         result+=i.lower()\n",
    "#swapcase function can also be implemented in this case :(\n",
    "print(\"final result after swap case are\",result)"
   ]
  },
  {
   "cell_type": "code",
   "execution_count": 24,
   "metadata": {},
   "outputs": [
    {
     "name": "stdout",
     "output_type": "stream",
     "text": [
      "my name is  \n"
     ]
    }
   ],
   "source": [
    "x=input(\"enter your desiered string \")\n",
    "y=input(\"enter the word you want to remove\")\n",
    "z=x.replace(y,\" \",-1)\n",
    "print(z)"
   ]
  },
  {
   "cell_type": "code",
   "execution_count": 29,
   "metadata": {},
   "outputs": [
    {
     "name": "stdout",
     "output_type": "stream",
     "text": [
      " a valid email address: askari.kzm786@gmail.com\n"
     ]
    }
   ],
   "source": [
    "# Check if a string is a valid email address\n",
    "x=input(\"enter your email address \")\n",
    "y=\"@gmail.com\"\n",
    "z=x.find(y)\n",
    "if z!=-1:\n",
    "    print(\" a valid email address:\",x)\n",
    "else:\n",
    "    print(\"not valid email address\")\n"
   ]
  },
  {
   "cell_type": "code",
   "execution_count": 50,
   "metadata": {},
   "outputs": [
    {
     "name": "stdout",
     "output_type": "stream",
     "text": [
      "user name in the email address is: pakistan\n"
     ]
    }
   ],
   "source": [
    "#Extract the username from an email address string.\n",
    "x=input(\"enter your email address \")\n",
    "k=x.find(\"@\")\n",
    "z=x.removesuffix(x[k:]) #suffix after\n",
    "print(\"user name in the email address is:\",z)"
   ]
  },
  {
   "cell_type": "code",
   "execution_count": 51,
   "metadata": {},
   "outputs": [
    {
     "name": "stdout",
     "output_type": "stream",
     "text": [
      "domain name of string is: gmail.com\n"
     ]
    }
   ],
   "source": [
    "#Extract the domain name from an email address string.\n",
    "x=input(\"enter your desiered string\")\n",
    "k=x.find(\"@\")\n",
    "z=x.removeprefix(x[0:k+1])\n",
    "print(\"domain name of string is:\",z)"
   ]
  },
  {
   "cell_type": "code",
   "execution_count": 3,
   "metadata": {},
   "outputs": [
    {
     "name": "stdout",
     "output_type": "stream",
     "text": [
      "Original string: this  is   multi   space\n",
      "String with multiple spaces replaced: this is multi space\n"
     ]
    }
   ],
   "source": [
    "input_string = \"this  is   multi   space\"\n",
    "output_string = \"\"\n",
    "space_flag = False  \n",
    "\n",
    "for i in input_string:\n",
    "    if i.isspace():\n",
    "        if not space_flag:  \n",
    "            output_string += i\n",
    "        space_flag = True\n",
    "    else:\n",
    "        output_string += i\n",
    "        space_flag = False\n",
    "\n",
    "print(\"Original string:\", input_string)\n",
    "print(\"String with multiple spaces replaced:\", output_string)\n"
   ]
  },
  {
   "cell_type": "code",
   "execution_count": 11,
   "metadata": {},
   "outputs": [
    {
     "name": "stdout",
     "output_type": "stream",
     "text": [
      "Is a valid URL:\n",
      "not a valid url\n"
     ]
    }
   ],
   "source": [
    "#Check if a string is a valid URL.\n",
    "x = input(\"Enter your URL: \")\n",
    "valid = x.startswith(\"https://www.\") and x.endswith(\".com\")\n",
    "if valid: \n",
    " print(\"Is a valid URL:\",x)\n",
    "else:\n",
    " print(\"not a valid url\",x)\n"
   ]
  },
  {
   "cell_type": "code",
   "execution_count": 15,
   "metadata": {},
   "outputs": [
    {
     "name": "stdout",
     "output_type": "stream",
     "text": [
      "protocol is \"http\n"
     ]
    }
   ],
   "source": [
    "#Extract the protocol (http or https) from a URL string.\n",
    "x = input(\"Enter your URL: \")\n",
    "if x.startswith(\"https\"):\n",
    "    print(\"protocol is \\\"https\")\n",
    "else:\n",
    "    print(\"protocol is \\\"http\")"
   ]
  },
  {
   "cell_type": "code",
   "execution_count": 22,
   "metadata": {},
   "outputs": [
    {
     "name": "stdout",
     "output_type": "stream",
     "text": [
      "pakistanaskaeiusmansabir \t string result\n",
      "number of time charcter a present in string is 6\n",
      "number of time charcter b present in string is 1\n",
      "number of time charcter c present in string is 0\n",
      "number of time charcter d present in string is 0\n",
      "number of time charcter e present in string is 1\n",
      "number of time charcter f present in string is 0\n",
      "number of time charcter j present in string is 0\n",
      "number of time charcter h present in string is 0\n",
      "number of time charcter i present in string is 3\n",
      "number of time charcter j present in string is 0\n",
      "number of time charcter k present in string is 2\n",
      "number of time charcter l present in string is 0\n",
      "number of time charcter m present in string is 1\n",
      "number of time charcter n present in string is 2\n",
      "number of time charcter o present in string is 0\n",
      "number of time charcter p present in string is 1\n",
      "number of time charcter q present in string is 0\n",
      "number of time charcter r present in string is 1\n",
      "number of time charcter s present in string is 4\n",
      "number of time charcter t present in string is 1\n",
      "number of time charcter u present in string is 1\n",
      "number of time charcter v present in string is 0\n",
      "number of time charcter w present in string is 0\n",
      "number of time charcter x present in string is 0\n",
      "number of time charcter y present in string is 0\n",
      "number of time charcter z present in string is 0\n"
     ]
    }
   ],
   "source": [
    "#Find the frequency of each character in a string.\n",
    "x=input(\"enter a string\")\n",
    "list1=[]\n",
    "for i in x:\n",
    "    list1.append(i)\n",
    "print(x,\"\\t string result\")\n",
    "stringz=\"abcdefjhijklmnopqrstuvwxyz\"\n",
    "for i in stringz:\n",
    "    print(f\"number of time charcter {i} present in string is {list1.count(i)}\")"
   ]
  },
  {
   "cell_type": "code",
   "execution_count": null,
   "metadata": {},
   "outputs": [],
   "source": [
    "#37. Remove all punctuation from a string."
   ]
  }
 ],
 "metadata": {
  "kernelspec": {
   "display_name": "Python 3",
   "language": "python",
   "name": "python3"
  },
  "language_info": {
   "codemirror_mode": {
    "name": "ipython",
    "version": 3
   },
   "file_extension": ".py",
   "mimetype": "text/x-python",
   "name": "python",
   "nbconvert_exporter": "python",
   "pygments_lexer": "ipython3",
   "version": "3.9.6"
  }
 },
 "nbformat": 4,
 "nbformat_minor": 2
}
