{
 "cells": [
  {
   "cell_type": "markdown",
   "metadata": {},
   "source": [
    "Tuple Based Practice Problem :"
   ]
  },
  {
   "cell_type": "code",
   "execution_count": 1,
   "metadata": {},
   "outputs": [
    {
     "name": "stdout",
     "output_type": "stream",
     "text": [
      "<class 'tuple'> (1, 2, 3, 4, 5)\n"
     ]
    }
   ],
   "source": [
    "#Create a tuple with integers from 1 to 5.\n",
    "x=(1,2,3,4,5)\n",
    "print(type(x),x)"
   ]
  },
  {
   "cell_type": "code",
   "execution_count": 3,
   "metadata": {},
   "outputs": [
    {
     "name": "stdout",
     "output_type": "stream",
     "text": [
      "3\n"
     ]
    }
   ],
   "source": [
    "# Access the third element of a tuple.\n",
    "x=(1,2,3,4,5)\n",
    "print(x[2])"
   ]
  },
  {
   "cell_type": "code",
   "execution_count": 4,
   "metadata": {},
   "outputs": [
    {
     "name": "stdout",
     "output_type": "stream",
     "text": [
      "5\n"
     ]
    }
   ],
   "source": [
    "# Find the length of a tuple without using the`len()` function.\n",
    "x=(1,2,3,4,5)\n",
    "print(len(x))\n"
   ]
  },
  {
   "cell_type": "code",
   "execution_count": 7,
   "metadata": {},
   "outputs": [
    {
     "name": "stdout",
     "output_type": "stream",
     "text": [
      "1\n"
     ]
    }
   ],
   "source": [
    "#Count the occurrences of an element in a tuple.\n",
    "x=(1,2,3,4,5,3,3,3)\n",
    "z=int(input(\"enter the item to find it occurence\"))\n",
    "print(x.count(z))"
   ]
  },
  {
   "cell_type": "code",
   "execution_count": 8,
   "metadata": {},
   "outputs": [
    {
     "name": "stdout",
     "output_type": "stream",
     "text": [
      "0\n"
     ]
    }
   ],
   "source": [
    "#Find the index of the first occurrence of an element in a tuple.\n",
    "x=(1,2,3,4,5,3,3,3)\n",
    "print(x.index(1))"
   ]
  },
  {
   "cell_type": "code",
   "execution_count": 14,
   "metadata": {},
   "outputs": [
    {
     "name": "stdout",
     "output_type": "stream",
     "text": [
      "not found!\n"
     ]
    }
   ],
   "source": [
    "#Check if an element exists in a tuple.\n",
    "x=(1,2,3,4,5,3,3,3)\n",
    "z=int(input(\"enter the item to find if it exsit or not\"))\n",
    "if (x.count(z))>=1:\n",
    "    print(\"found\")\n",
    "else:\n",
    "    print(\"not found!\")"
   ]
  },
  {
   "cell_type": "code",
   "execution_count": 17,
   "metadata": {},
   "outputs": [
    {
     "name": "stdout",
     "output_type": "stream",
     "text": [
      "[1, 2, 3, 4, 5, 3, 3, 3] <class 'list'>\n"
     ]
    }
   ],
   "source": [
    "#Convert a tuple to a list.\n",
    "x=(1,2,3,4,5,3,3,3)\n",
    "x=list(x)\n",
    "print(x,type(x))"
   ]
  },
  {
   "cell_type": "code",
   "execution_count": 18,
   "metadata": {},
   "outputs": [
    {
     "name": "stdout",
     "output_type": "stream",
     "text": [
      "(1, 2, 3, 4, 5, 3, 3, 3) <class 'tuple'>\n"
     ]
    }
   ],
   "source": [
    "# Convert a list to a tuple.\n",
    "x=[1,2,3,4,5,3,3,3]\n",
    "x=tuple(x)\n",
    "print(x,type(x))"
   ]
  },
  {
   "cell_type": "code",
   "execution_count": 25,
   "metadata": {},
   "outputs": [
    {
     "name": "stdout",
     "output_type": "stream",
     "text": [
      "1 2 3 4 5\n"
     ]
    }
   ],
   "source": [
    "#Unpack the elements of a tuple into variables.\n",
    "x=(1,2,3,4,5)\n",
    "variable1,variable2,variable3,variable4,variable5=x\n",
    "print(variable1,variable2,variable3,variable4,variable5)\n"
   ]
  },
  {
   "cell_type": "code",
   "execution_count": 29,
   "metadata": {},
   "outputs": [
    {
     "name": "stdout",
     "output_type": "stream",
     "text": [
      "(0, 2, 4, 6, 8, 10) \t <class 'tuple'>\n"
     ]
    }
   ],
   "source": [
    "# Create a tuple of even numbers from 1 to 10.\n",
    "list1=[i for i in range(0,11,+2)]\n",
    "list1=tuple(list1)\n",
    "print(list1,\"\\t\",type(list1))\n"
   ]
  },
  {
   "cell_type": "code",
   "execution_count": 28,
   "metadata": {},
   "outputs": [
    {
     "name": "stdout",
     "output_type": "stream",
     "text": [
      "(1, 3, 5, 7, 9) \t <class 'tuple'>\n"
     ]
    }
   ],
   "source": [
    "#Create a tuple of odd numbers from 1 to 10.\n",
    "list1=[i for i in range(1,11,+2)]\n",
    "list1=tuple(list1)\n",
    "print(list1,\"\\t\",type(list1))\n"
   ]
  },
  {
   "cell_type": "code",
   "execution_count": 31,
   "metadata": {},
   "outputs": [
    {
     "name": "stdout",
     "output_type": "stream",
     "text": [
      "[1, 2, 3, 4, 5, 6, 7, 8, 9, 10]\n"
     ]
    }
   ],
   "source": [
    "#Concatenate two tuples.\n",
    "tup1=[1,2,3,4,5]\n",
    "tup2=[6,7,8,9,10]\n",
    "tup1=tup1+tup2\n",
    "print(tup1)"
   ]
  },
  {
   "cell_type": "code",
   "execution_count": 34,
   "metadata": {},
   "outputs": [
    {
     "name": "stdout",
     "output_type": "stream",
     "text": [
      "(1, 2, 3, 4, 5, 1, 2, 3, 4, 5, 1, 2, 3, 4, 5)\n"
     ]
    }
   ],
   "source": [
    "#Repeat a tuple three times.\n",
    "tup1=(1,2,3,4,5)\n",
    "tup1=tup1*3\n",
    "print(tup1)"
   ]
  },
  {
   "cell_type": "code",
   "execution_count": 51,
   "metadata": {},
   "outputs": [
    {
     "name": "stdout",
     "output_type": "stream",
     "text": [
      "tuples is empty\n",
      "<class 'tuple'>\n"
     ]
    }
   ],
   "source": [
    " #Check if a tuple is empty.\n",
    "tup1=()\n",
    "if len(tup1)==0:\n",
    "    print(\"tuples is empty\")\n",
    "    print(type(tup1))\n",
    "else:\n",
    "    print(\"tuple is not empty\")"
   ]
  },
  {
   "cell_type": "code",
   "execution_count": 41,
   "metadata": {},
   "outputs": [
    {
     "name": "stdout",
     "output_type": "stream",
     "text": [
      "(1, 2, 3, 4, 5, (6, 7, 8, 9))\n"
     ]
    }
   ],
   "source": [
    "#Create a nested tuple.\n",
    "tup1=(1,2,3,4,5,(6,7,8,9))\n",
    "print(tup1)"
   ]
  },
  {
   "cell_type": "code",
   "execution_count": 46,
   "metadata": {},
   "outputs": [
    {
     "name": "stdout",
     "output_type": "stream",
     "text": [
      "6\n"
     ]
    }
   ],
   "source": [
    "#Access the first element of a nested tuple.\n",
    "tup1=(1,2,3,4,5,(6,7,8,9))\n",
    "print(tup1[5][0])"
   ]
  },
  {
   "cell_type": "code",
   "execution_count": 54,
   "metadata": {},
   "outputs": [
    {
     "name": "stdout",
     "output_type": "stream",
     "text": [
      "1\n"
     ]
    },
    {
     "data": {
      "text/plain": [
       "tuple"
      ]
     },
     "execution_count": 54,
     "metadata": {},
     "output_type": "execute_result"
    }
   ],
   "source": [
    " #Create a tuple with a single element.\n",
    "tup1=(1,)\n",
    "print(len(tup1))\n",
    "type(tup1)"
   ]
  },
  {
   "cell_type": "code",
   "execution_count": 63,
   "metadata": {},
   "outputs": [
    {
     "name": "stdout",
     "output_type": "stream",
     "text": [
      "same value\n"
     ]
    }
   ],
   "source": [
    "#18. Compare two tuples.\n",
    "tup_1=(1,2,3,4,5,6,7,8,9,10)\n",
    "tup_2=(1,2,3,4,5,6,7,8,9,10)\n",
    "flag=all( i==j for i,j in zip(tup_1,tup_2))\n",
    "if flag:\n",
    "    print(\"same value\")\n",
    "else:\n",
    "    print(\"differnt!\")"
   ]
  },
  {
   "cell_type": "code",
   "execution_count": 65,
   "metadata": {},
   "outputs": [
    {
     "name": "stdout",
     "output_type": "stream",
     "text": [
      "() <class 'tuple'>\n"
     ]
    }
   ],
   "source": [
    "#19. Delete a tuple.\n",
    "tup_1=(1,2,3,4,5,6,7,8,9,10)\n",
    "tup_1=list(tup_1)\n",
    "tup_1.clear()\n",
    "tup_1=tuple(tup_1)\n",
    "print(tup_1,type(tup_1))"
   ]
  },
  {
   "cell_type": "code",
   "execution_count": 67,
   "metadata": {},
   "outputs": [
    {
     "name": "stdout",
     "output_type": "stream",
     "text": [
      "(10, 9, 8, 7, 6, 5, 4, 3, 2, 1)\n"
     ]
    }
   ],
   "source": [
    "#20. Slice a tuple.\n",
    "tup_1=(1,2,3,4,5,6,7,8,9,10)\n",
    "print(tup_1[::-1])"
   ]
  },
  {
   "cell_type": "code",
   "execution_count": 69,
   "metadata": {},
   "outputs": [
    {
     "name": "stdout",
     "output_type": "stream",
     "text": [
      "10\n"
     ]
    }
   ],
   "source": [
    "# 21.Find the maximum value in a tuple.\n",
    "tup_1=(1,2,3,4,5,6,7,8,9,10)\n",
    "print(max(tup_1))"
   ]
  },
  {
   "cell_type": "code",
   "execution_count": 70,
   "metadata": {},
   "outputs": [
    {
     "name": "stdout",
     "output_type": "stream",
     "text": [
      "1\n"
     ]
    }
   ],
   "source": [
    "#22. Find the minimum value in a tuple.\n",
    "tup_1=(1,2,3,4,5,6,7,8,9,10)\n",
    "print(min(tup_1))"
   ]
  },
  {
   "cell_type": "code",
   "execution_count": 72,
   "metadata": {},
   "outputs": [
    {
     "name": "stdout",
     "output_type": "stream",
     "text": [
      "('a', 'b', 'c', 'd', 'e', 'f', 'j', 'h', 'i', 'j', 'k', 'l', 'm', 'n', 'o', 'p', 'q', 'r', 's', 't', 'u', 'v', 'w', 'x', 'y', 'z')\n"
     ]
    }
   ],
   "source": [
    "#23. Convert a string to a tuple of characters.\n",
    "str_x=\"abcdefjhijklmnopqrstuvwxyz\"\n",
    "tup1=tuple(str_x)\n",
    "print(tup1)"
   ]
  },
  {
   "cell_type": "code",
   "execution_count": 73,
   "metadata": {},
   "outputs": [
    {
     "name": "stdout",
     "output_type": "stream",
     "text": [
      "abcdefjhijklmnopqrstuvwxyz\n"
     ]
    }
   ],
   "source": [
    "tup1=('a', 'b', 'c', 'd', 'e', 'f', 'j', 'h', 'i', 'j', 'k', 'l', 'm', 'n', 'o', 'p', 'q', 'r', 's', 't', 'u', 'v', 'w', 'x', 'y', 'z')\n",
    "str_1=\"\".join(tup1)\n",
    "print(str_1)"
   ]
  },
  {
   "cell_type": "code",
   "execution_count": 75,
   "metadata": {},
   "outputs": [
    {
     "name": "stdout",
     "output_type": "stream",
     "text": [
      "('a', False, 1212, None, (4+5j), 1.23, 'pakistan!')\n",
      "[<class 'str'>, <class 'bool'>, <class 'int'>, <class 'NoneType'>, <class 'complex'>, <class 'float'>, <class 'str'>]\n"
     ]
    }
   ],
   "source": [
    "#25. Create a tuple from multiple data types.\n",
    "tup1=(\"a\",False,1212,None,4+5j,1.23,\"pakistan!\")\n",
    "print(tup1)\n",
    "list1=[type(i) for i in tup1]\n",
    "print(list1)"
   ]
  },
  {
   "cell_type": "code",
   "execution_count": 77,
   "metadata": {},
   "outputs": [
    {
     "name": "stdout",
     "output_type": "stream",
     "text": [
      "True\n"
     ]
    }
   ],
   "source": [
    "#26. Check if two tuples are identical.\n",
    "tup1=(1,2,3,4,5,6,7,8,9,10)\n",
    "tup2=(1,2,3,4,5,6,7,8,9,10)\n",
    "flag=all(i==j for i,j in zip(tup1,tup2))\n",
    "print(flag)"
   ]
  },
  {
   "cell_type": "code",
   "execution_count": 78,
   "metadata": {},
   "outputs": [
    {
     "name": "stdout",
     "output_type": "stream",
     "text": [
      "(1, 2, 3, 4, 5, 6, 7, 8, 9, 10) <class 'tuple'>\n"
     ]
    }
   ],
   "source": [
    "#27. Sort the elements of a tuple.\n",
    "tup1=(10,9,8,7,6,5,4,3,2,1)\n",
    "tup1=list(tup1)\n",
    "tup1.sort()\n",
    "tup1=tuple(tup1)\n",
    "print(tup1,type(tup1))"
   ]
  },
  {
   "cell_type": "code",
   "execution_count": 97,
   "metadata": {},
   "outputs": [
    {
     "name": "stdout",
     "output_type": "stream",
     "text": [
      "(1, 2, 3, 4, 5, 6, 7, 8, 9, 10)\n"
     ]
    }
   ],
   "source": [
    "#28. Convert a tuple of integers to a tuple of strings.\n",
    "tup1=(1,2,3,4,5,6,7,8,9,10)\n",
    "tup1_str = \" \".join(str(i) for i in tup1)\n",
    "tup1=tuple(tup1)\n",
    "print(tup1)"
   ]
  },
  {
   "cell_type": "code",
   "execution_count": 109,
   "metadata": {},
   "outputs": [
    {
     "name": "stdout",
     "output_type": "stream",
     "text": [
      "(1, 2, 3, 4, 5, 6, 7, 8, 9, 10)\n"
     ]
    }
   ],
   "source": [
    "# 29. Convert a tuple of strings to a tuple of integers.\n",
    "tup1 = (\"(1, 2, 3, 4, 5, 6, 7, 8, 9, 10)\",)\n",
    "tup2 = tuple(int(x) for x in tup1[0].strip(\"()\").split(\", \"))\n",
    "print(tup2)\n"
   ]
  },
  {
   "cell_type": "code",
   "execution_count": 111,
   "metadata": {},
   "outputs": [
    {
     "name": "stdout",
     "output_type": "stream",
     "text": [
      "(1, 2, 3, 4, 5, 6, 7, 8, 9, 10)\n"
     ]
    }
   ],
   "source": [
    "#30. Merge two tuples. \"+\" can also be used \n",
    "tup1=(1,2,3,4,5,6,7,8,9,10)\n",
    "tup2=(10,20,30,40)\n",
    "tupl2=tuple(zip(tup1,tup2))\n",
    "print(tup1)"
   ]
  },
  {
   "cell_type": "code",
   "execution_count": 121,
   "metadata": {},
   "outputs": [
    {
     "name": "stdout",
     "output_type": "stream",
     "text": [
      "(1, 2, 3, 4, (5, 6, 7))\n",
      "(1, 2, 3, 4, 5, 6, 7)\n"
     ]
    }
   ],
   "source": [
    "#31. Flatten a nested tuple.\n",
    "tupl1=(1,2,3,4,(5,6,7))\n",
    "print(tupl1)\n",
    "tupl2 = tuple(i for j in tupl1 for i in (j if isinstance(j, tuple) else (j,)))\n",
    "print(tupl2)\n"
   ]
  },
  {
   "cell_type": "code",
   "execution_count": 123,
   "metadata": {},
   "outputs": [
    {
     "name": "stdout",
     "output_type": "stream",
     "text": [
      "(1, 2, 6, 24, 120)\n"
     ]
    }
   ],
   "source": [
    "#32. Create a tuple of the first 5 prime numbers.\n",
    "fact=1\n",
    "list1=[]\n",
    "for i in range(1,6):\n",
    "  fact*=i\n",
    "  list1.append(fact)\n",
    "tup1=tuple(list1)\n",
    "print(tup1)"
   ]
  },
  {
   "cell_type": "code",
   "execution_count": 141,
   "metadata": {},
   "outputs": [
    {
     "name": "stdout",
     "output_type": "stream",
     "text": [
      "The tuple is plaindrome\n"
     ]
    }
   ],
   "source": [
    "tup = (1, 2, 3, 3, 2, 1)\n",
    "\n",
    "flag = all(tup[i] == tup[-(i + 1)] for i in range(len(tup)//2))\n",
    "\n",
    "if flag:\n",
    "    print(\"The tuple is plaindrome\")\n",
    "else:\n",
    "    print(\"The tuple is not plaindrome.\")\n"
   ]
  },
  {
   "cell_type": "code",
   "execution_count": 162,
   "metadata": {},
   "outputs": [
    {
     "name": "stdout",
     "output_type": "stream",
     "text": [
      "(1, 4, 9, 16, 25)\n"
     ]
    }
   ],
   "source": [
    "#Create a tuple of squares of numbers from 1 to 5.t\n",
    "list1=[]\n",
    "list1=[i*i for i in range(1,6)]\n",
    "tup=tuple(list1)\n",
    "print(tup)"
   ]
  },
  {
   "cell_type": "code",
   "execution_count": 167,
   "metadata": {},
   "outputs": [
    {
     "name": "stdout",
     "output_type": "stream",
     "text": [
      "(1, 3, 5, 7, 9)\n"
     ]
    }
   ],
   "source": [
    "#35. Filter out all even numbers from a tuple\n",
    "tuple1=(1,2,3,4,5,6,7,8,9,10)\n",
    "tuple2 = tuple(i for i in tuple1 if i%2==1)\n",
    "print(tuple2)"
   ]
  },
  {
   "cell_type": "code",
   "execution_count": 170,
   "metadata": {},
   "outputs": [
    {
     "name": "stdout",
     "output_type": "stream",
     "text": [
      "(2, 4, 6, 8, 10, 12, 14, 16, 18, 20)\n"
     ]
    }
   ],
   "source": [
    "#36. Multiply all elements in a tuple by 2. #lamda function can aslo used\n",
    "tup1=(1,2,3,4,5,6,7,8,9,10)\n",
    "tup1=tuple(i*2 for i in tup1)\n",
    "print(tup1)"
   ]
  },
  {
   "cell_type": "code",
   "execution_count": 230,
   "metadata": {},
   "outputs": [
    {
     "name": "stdout",
     "output_type": "stream",
     "text": [
      "(1, 4, 9, 16, 25, 3, 8, 9, 4, 5, 6, 6, 7, 7, 8, 8, 7, 10, 9, 2, 5, 4, 3, 7, 9)\n"
     ]
    }
   ],
   "source": [
    "#37. Create a tuple of random numbers.\n",
    "import random\n",
    "for i in range(10):\n",
    "  list.append(random.randint(1,10))\n",
    "print(tuple(list))"
   ]
  },
  {
   "cell_type": "code",
   "execution_count": 237,
   "metadata": {},
   "outputs": [
    {
     "name": "stdout",
     "output_type": "stream",
     "text": [
      "not sorted\n"
     ]
    }
   ],
   "source": [
    "#38. Check if a tuple is sorted.\n",
    "tuple1=(1,1,3,4,5,6,7,8,9,10)\n",
    "flag = all(tuple1[i] <= tuple1[i+1] for i in range(len(tuple1)-1))\n",
    "if flag:\n",
    "    print(\"sorted\")\n",
    "else:\n",
    "    print(\"not sorted\")"
   ]
  },
  {
   "cell_type": "code",
   "execution_count": 246,
   "metadata": {},
   "outputs": [
    {
     "name": "stdout",
     "output_type": "stream",
     "text": [
      "(4, 5, 1, 2, 3)\n"
     ]
    }
   ],
   "source": [
    "#39\n",
    "tup = (1, 2, 3, 4, 5)\n",
    "n = int(input(\"Enter the value of left rotation: \"))\n",
    "if n > len(tup):\n",
    "    n = n % len(tup)\n",
    "rotated_tup = tup[n:] + tup[:n]\n",
    "print(rotated_tup)\n"
   ]
  },
  {
   "cell_type": "code",
   "execution_count": 253,
   "metadata": {},
   "outputs": [
    {
     "name": "stdout",
     "output_type": "stream",
     "text": [
      "(4, 5, 1, 2)\n"
     ]
    }
   ],
   "source": [
    "#40. Rotate a tuple to the right by`n`positions.\n",
    "tup = (1, 2, 3, 4, 5)\n",
    "n = int(input(\"Enter the value of left rotation: \"))\n",
    "if n > len(tup):\n",
    "    n = n % len(tup)\n",
    "rotated_tup = tup[n:] + tup[0:-n:1]\n",
    "print(rotated_tup)"
   ]
  },
  {
   "cell_type": "code",
   "execution_count": 261,
   "metadata": {},
   "outputs": [
    {
     "name": "stdout",
     "output_type": "stream",
     "text": [
      "(0, 1, 1, 2, 3)\n"
     ]
    }
   ],
   "source": [
    "#41. Create a tuple of the first 5 Fibonacci numbers.\n",
    "tup=[]\n",
    "first_number=0\n",
    "secoond_number=1\n",
    "for i in range(1,6):\n",
    "    tup.append(first_number)\n",
    "    sum=first_number+secoond_number\n",
    "    first_number=secoond_number\n",
    "    secoond_number=sum\n",
    "print(tuple(tup)) "
   ]
  },
  {
   "cell_type": "code",
   "execution_count": 283,
   "metadata": {},
   "outputs": [
    {
     "name": "stdout",
     "output_type": "stream",
     "text": [
      "('1', '2', '3', '4')\n"
     ]
    }
   ],
   "source": [
    "n=int(input(\"enter the size of tuple\"))\n",
    "list1=[]\n",
    "for i in range(n):\n",
    "    q=input(\"enter desierd value\")\n",
    "    list1.append(q)\n",
    "print(tuple(list1))"
   ]
  },
  {
   "cell_type": "code",
   "execution_count": 1,
   "metadata": {},
   "outputs": [
    {
     "name": "stdout",
     "output_type": "stream",
     "text": [
      "(1, 2, 6, 4, 5, 3, 7, 8, 9, 10)\n"
     ]
    }
   ],
   "source": [
    "#43. Swap two elements in a tuple.\n",
    "q=(1,2,3,4,5,6,7,8,9,10)\n",
    "d = list(q)\n",
    "x, y = 2, 5 \n",
    "d[x], d[y] = d[y], d[x] \n",
    "q = tuple(d)\n",
    "print(q)\n"
   ]
  },
  {
   "cell_type": "code",
   "execution_count": 10,
   "metadata": {},
   "outputs": [
    {
     "name": "stdout",
     "output_type": "stream",
     "text": [
      "(10, 9, 8, 7, 6, 5, 4, 3, 2, 1)\n"
     ]
    }
   ],
   "source": [
    "#44. Reverse the elements of a tuple.\n",
    "q=(1,2,3,4,5,6,7,8,9,10)\n",
    "d = list(q)\n",
    "d=list(reversed(d))\n",
    "print(tuple(d))"
   ]
  },
  {
   "cell_type": "code",
   "execution_count": 12,
   "metadata": {},
   "outputs": [
    {
     "name": "stdout",
     "output_type": "stream",
     "text": [
      "(2, 4, 8, 16, 32)\n"
     ]
    }
   ],
   "source": [
    "#45. Create a tuple of the first `n`powers of 2.\n",
    "n=int(input(\"enter value of n:\"))\n",
    "list1=[]\n",
    "for i in range(1,n+1):\n",
    "   list1.append(2**i)\n",
    "print(tuple(list1))"
   ]
  },
  {
   "cell_type": "code",
   "execution_count": 13,
   "metadata": {},
   "outputs": [
    {
     "name": "stdout",
     "output_type": "stream",
     "text": [
      "askari\n"
     ]
    }
   ],
   "source": [
    "#46. Find the longest string in a tuple of strings.\n",
    "tuple=(\"my\",\"name\",\"is\",\"askari\")\n",
    "print(max(tuple,key=len))"
   ]
  },
  {
   "cell_type": "code",
   "execution_count": 14,
   "metadata": {},
   "outputs": [
    {
     "name": "stdout",
     "output_type": "stream",
     "text": [
      "my\n"
     ]
    }
   ],
   "source": [
    "#47. Find the shortest string in a tuple of strings.\n",
    "tuple=(\"my\",\"name\",\"is\",\"askari\")\n",
    "print(min(tuple,key=len))\n"
   ]
  },
  {
   "cell_type": "code",
   "execution_count": 2,
   "metadata": {},
   "outputs": [
    {
     "name": "stdout",
     "output_type": "stream",
     "text": [
      "(1, 3)\n"
     ]
    }
   ],
   "source": [
    "#48. Create a tuple of the first `n` triangular numbers.\n",
    "n=int(input(\"enter value of n:\"))\n",
    "tuple1=tuple(i*(i+1)//2 for i in range(1,n+1))\n",
    "print(tuple1)"
   ]
  },
  {
   "cell_type": "code",
   "execution_count": 17,
   "metadata": {},
   "outputs": [
    {
     "name": "stdout",
     "output_type": "stream",
     "text": [
      "contain list inside\n"
     ]
    }
   ],
   "source": [
    "#49. Check if a tuple contains another tuple as a subsequence.\n",
    "tup=(1,2,3,4,5,(1,2,3))\n",
    "tup1=(1,2,3)\n",
    "if tup.__contains__(tup1):\n",
    "    print(\"contain list inside\")\n",
    "else:\n",
    "    print(\"not found\")"
   ]
  },
  {
   "cell_type": "code",
   "execution_count": 1,
   "metadata": {},
   "outputs": [
    {
     "name": "stdout",
     "output_type": "stream",
     "text": [
      "(1, 0, 1, 0)\n"
     ]
    }
   ],
   "source": [
    "#50. Create a tuple of alternating 1s and 0s of length `n`.\n",
    "n=int(input(\"enter value \"))\n",
    "tup = tuple(1 if i % 2 == 0 else 0 for i in range(n))\n",
    "print(tup)"
   ]
  }
 ],
 "metadata": {
  "kernelspec": {
   "display_name": "Python 3",
   "language": "python",
   "name": "python3"
  },
  "language_info": {
   "codemirror_mode": {
    "name": "ipython",
    "version": 3
   },
   "file_extension": ".py",
   "mimetype": "text/x-python",
   "name": "python",
   "nbconvert_exporter": "python",
   "pygments_lexer": "ipython3",
   "version": "3.9.6"
  }
 },
 "nbformat": 4,
 "nbformat_minor": 2
}
