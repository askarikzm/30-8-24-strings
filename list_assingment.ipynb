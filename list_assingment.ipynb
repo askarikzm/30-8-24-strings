{
 "cells": [
  {
   "cell_type": "markdown",
   "metadata": {},
   "source": [
    "Python assimgment no 2\n",
    "TOPIC: List Based Practice Problem :"
   ]
  },
  {
   "cell_type": "code",
   "execution_count": 1,
   "metadata": {},
   "outputs": [
    {
     "name": "stdout",
     "output_type": "stream",
     "text": [
      "list of ten integer is  [1, 2, 3, 4, 5, 6, 7, 8, 9, 10]\n"
     ]
    }
   ],
   "source": [
    "#List Based Practice Problem :\n",
    "x=[1,2,3,4,5,6,7,8,9,10]\n",
    "print(\"list of ten integer is :\",x)"
   ]
  },
  {
   "cell_type": "code",
   "execution_count": 2,
   "metadata": {},
   "outputs": [
    {
     "name": "stdout",
     "output_type": "stream",
     "text": [
      "length of list is 10\n"
     ]
    }
   ],
   "source": [
    "# Find the length of a list without using the\n",
    "# `len()` function.\n",
    "x=[1,2,3,4,5,6,7,8,9,10]\n",
    "count=0\n",
    "for i in x:\n",
    "    count=count+1\n",
    "print(\"length of list is\",count)"
   ]
  },
  {
   "cell_type": "code",
   "execution_count": 9,
   "metadata": {},
   "outputs": [
    {
     "name": "stdout",
     "output_type": "stream",
     "text": [
      "[1, 2, 3, 4, 5, 6, 7, 8, 9, 5]\n"
     ]
    }
   ],
   "source": [
    "# Append an element to the end of a list\n",
    "x = [1, 2, 3, 4, 5, 6, 7, 8, 9]\n",
    "y = int(input(\"Enter the number you want to append: \"))\n",
    "x.append(y)\n",
    "print(x)"
   ]
  },
  {
   "cell_type": "code",
   "execution_count": 13,
   "metadata": {},
   "outputs": [
    {
     "name": "stdout",
     "output_type": "stream",
     "text": [
      "[1, 2, '4', 3, 4, 5, 6, 7, 8, 9]\n"
     ]
    }
   ],
   "source": [
    "#Insert an element at a specific index in a list.\n",
    "x=[1,2,3,4,5,6,7,8,9]\n",
    "y=int(input(\"enter the position to place a object\"))\n",
    "z=input(\"enter the value\")\n",
    "x.insert(y-1,z) #-1 as index start form zero\n",
    "print(x)"
   ]
  },
  {
   "cell_type": "code",
   "execution_count": 29,
   "metadata": {},
   "outputs": [
    {
     "name": "stdout",
     "output_type": "stream",
     "text": [
      "[1, 2, 4, 5, 6, 7, 8, 9]\n"
     ]
    }
   ],
   "source": [
    "#Remove an element from a list by its value.\n",
    "x = [1, 2, 3, 4, 5, 6, 7, 8, 9]\n",
    "z = int(input(\"Enter the value to remove from the list: \"))\n",
    "x.remove(z)\n",
    "print(x)"
   ]
  },
  {
   "cell_type": "code",
   "execution_count": 32,
   "metadata": {},
   "outputs": [
    {
     "name": "stdout",
     "output_type": "stream",
     "text": [
      "[1, 2, 3, 4, 5, 6, 7, 8, 9]\n",
      "[1, 2, 4, 5, 6, 7, 8, 9]\n"
     ]
    }
   ],
   "source": [
    " #Remove an element from a list by its index.\n",
    "x = [1, 2, 3, 4, 5, 6, 7, 8, 9]\n",
    "print(x)\n",
    "z=int(input(\"enter the index of list item to remove:\"))\n",
    "x.pop(z)\n",
    "print(x)"
   ]
  },
  {
   "cell_type": "code",
   "execution_count": 41,
   "metadata": {},
   "outputs": [
    {
     "name": "stdout",
     "output_type": "stream",
     "text": [
      "present in list: 1\n"
     ]
    }
   ],
   "source": [
    "#Check if an element exists in a list.\n",
    "x=[1,2,3,4,5,6,7,8,9,10]\n",
    "z=int(input(\"enter the value to find in list\"))\n",
    "k=x.count(z)\n",
    "if k!=0 :\n",
    "    print(\"present in list:\",z)\n",
    "else:\n",
    "    print(\"not present in list:\")\n"
   ]
  },
  {
   "cell_type": "code",
   "execution_count": 62,
   "metadata": {},
   "outputs": [
    {
     "name": "stdout",
     "output_type": "stream",
     "text": [
      "not found !\n"
     ]
    }
   ],
   "source": [
    "\n",
    "x=[1,2,1,2,3,4,5,6,6,7,8,9,10]\n",
    "z=int(input(\"enter the digit to find its first occurrence\"))\n",
    "try:\n",
    "    k=x.index(z)\n",
    "    print(\"first occurrence is:\", k)\n",
    "except ValueError:\n",
    "    print(\"not found !\")"
   ]
  },
  {
   "cell_type": "code",
   "execution_count": 71,
   "metadata": {},
   "outputs": [
    {
     "name": "stdout",
     "output_type": "stream",
     "text": [
      "2\n"
     ]
    }
   ],
   "source": [
    "#Count the occurrences of an element in a list.\n",
    "x=[1,2,3,4,5,5,6,7,7,3,3223]\n",
    "z=int(input(\"enter the digit to find its first occurrence\"))\n",
    "k=x.count(z)\n",
    "if k!=0 :print(k)\n",
    "else :print(\"not found\")\n"
   ]
  },
  {
   "cell_type": "code",
   "execution_count": 72,
   "metadata": {},
   "outputs": [
    {
     "name": "stdout",
     "output_type": "stream",
     "text": [
      "[10, 9, 8, 7, 6, 5, 4, 3, 2, 1]\n"
     ]
    }
   ],
   "source": [
    "#Reverse the order of elements in a list.\n",
    "x=[1,2,3,4,5,6,7,8,9,10]\n",
    "x.reverse()\n",
    "print(x)"
   ]
  },
  {
   "cell_type": "code",
   "execution_count": 74,
   "metadata": {},
   "outputs": [
    {
     "name": "stdout",
     "output_type": "stream",
     "text": [
      "[9, 8, 7, 1, 2, 3, 4, 5, 6, 4]\n",
      "[1, 2, 3, 4, 4, 5, 6, 7, 8, 9]\n"
     ]
    }
   ],
   "source": [
    "#Sort a list in ascending order.\n",
    "i=int(input(\"enter length of list\"))\n",
    "x=[]\n",
    "for j in range(i):\n",
    "     j=int(input(\"enter value to add in list:\"))\n",
    "     x.append(j)\n",
    "print(x)\n",
    "x.sort(reverse=False)\n",
    "print(x)"
   ]
  },
  {
   "cell_type": "code",
   "execution_count": 76,
   "metadata": {},
   "outputs": [
    {
     "name": "stdout",
     "output_type": "stream",
     "text": [
      "[1, 2, 3, 4, 5, 6, 7, 8, 9, 10]\n",
      "[10, 9, 8, 7, 6, 5, 4, 3, 2, 1]\n"
     ]
    }
   ],
   "source": [
    "# Sort a list in descending order.\n",
    "i=int(input(\"enter length of list\"))\n",
    "x=[]\n",
    "for j in range(i):\n",
    "     j=int(input(\"enter value to add in list:\"))\n",
    "     x.append(j)\n",
    "print(x)\n",
    "x.sort(reverse=True)\n",
    "print(x)"
   ]
  },
  {
   "cell_type": "code",
   "execution_count": 77,
   "metadata": {},
   "outputs": [
    {
     "name": "stdout",
     "output_type": "stream",
     "text": [
      "[2, 4, 6, 8, 10, 12, 14, 16, 18, 20]\n"
     ]
    }
   ],
   "source": [
    "#Create a list of even numbers from 1 to 20.\n",
    "x=[]\n",
    "for i in range(1,21):\n",
    "    if i%2==0:\n",
    "        x.append(i)\n",
    "    else:\n",
    "        continue\n",
    "print(x)"
   ]
  },
  {
   "cell_type": "code",
   "execution_count": 78,
   "metadata": {},
   "outputs": [
    {
     "name": "stdout",
     "output_type": "stream",
     "text": [
      "[1, 3, 5, 7, 9, 11, 13, 15, 17, 19]\n"
     ]
    }
   ],
   "source": [
    "#Create a list of odd numbers from 1 to 20.\n",
    "x=[]\n",
    "for i in range(1,21):\n",
    "    if i%2!=0:\n",
    "        x.append(i)\n",
    "    else:\n",
    "        continue\n",
    "print(x)"
   ]
  },
  {
   "cell_type": "code",
   "execution_count": 79,
   "metadata": {},
   "outputs": [
    {
     "name": "stdout",
     "output_type": "stream",
     "text": [
      "[1, 2, 3, 4, 5]\n",
      "sum of values of list are: 15\n"
     ]
    }
   ],
   "source": [
    "#Find the sum of all elements in a list\n",
    "i=int(input(\"enter length of list\"))\n",
    "x=[]\n",
    "for j in range(i):\n",
    "     j=int(input(\"enter value to add in list:\"))\n",
    "     x.append(j)\n",
    "print(x)\n",
    "k=sum(x)\n",
    "print(\"sum of values of list are:\",k)\n"
   ]
  },
  {
   "cell_type": "code",
   "execution_count": 80,
   "metadata": {},
   "outputs": [
    {
     "name": "stdout",
     "output_type": "stream",
     "text": [
      "[10, 11, 12, 13, 14]\n",
      "higest number in list 14\n"
     ]
    }
   ],
   "source": [
    "#Find the maximum value in a list.\n",
    "#Find the sum of all elements in a list\n",
    "i=int(input(\"enter length of list\"))\n",
    "x=[]\n",
    "for j in range(i):\n",
    "     j=int(input(\"enter value to add in list:\"))\n",
    "     x.append(j)\n",
    "print(x)\n",
    "k=max(x)\n",
    "print(\"higest number in list\",k)\n"
   ]
  },
  {
   "cell_type": "code",
   "execution_count": 81,
   "metadata": {},
   "outputs": [
    {
     "name": "stdout",
     "output_type": "stream",
     "text": [
      "[10, -1, 3, 2, 10]\n",
      "lowest number in list -1\n"
     ]
    }
   ],
   "source": [
    "#Find the minimum value in a list.\n",
    "i=int(input(\"enter length of list\"))\n",
    "x=[]\n",
    "for j in range(i):\n",
    "     j=int(input(\"enter value to add in list:\"))\n",
    "     x.append(j)\n",
    "print(x)\n",
    "k=min(x)\n",
    "print(\"lowest number in list\",k)"
   ]
  },
  {
   "cell_type": "code",
   "execution_count": 82,
   "metadata": {},
   "outputs": [
    {
     "name": "stdout",
     "output_type": "stream",
     "text": [
      "[1, 4, 9, 16, 25, 36, 49, 64, 81, 100]\n"
     ]
    }
   ],
   "source": [
    "#Create a list of squares of numbers from 1 to 10.\n",
    "x=[]\n",
    "for i in range(1,11):\n",
    "    int(i) \n",
    "    x.append(i*i)\n",
    "print(x)"
   ]
  },
  {
   "cell_type": "code",
   "execution_count": 92,
   "metadata": {},
   "outputs": [
    {
     "name": "stdout",
     "output_type": "stream",
     "text": [
      "[7, 1, 9, 9, 8, 6, 9, 2, 8, 9]\n"
     ]
    }
   ],
   "source": [
    "#Create a list of random numbers.\n",
    "#importing lib\n",
    "import random\n",
    "x=[]\n",
    "for i in range(10):\n",
    "    i=random.randint(1,10)\n",
    "    x.append(i)\n",
    "print(x)"
   ]
  },
  {
   "cell_type": "code",
   "execution_count": 99,
   "metadata": {},
   "outputs": [
    {
     "name": "stdout",
     "output_type": "stream",
     "text": [
      "[1, 2, 3, 4, 5, 6, 7, 8, 9, 10]\n"
     ]
    }
   ],
   "source": [
    "# Remove duplicates from a list.\n",
    "x = [1, 1, 2, 2, 1, 3, 4, 4, 5, 5, 6, 6, 7, 7, 8, 8, 9, 9, 10]\n",
    "k = []\n",
    "for i in x:\n",
    "    if i not in k:\n",
    "        k.append(i)\n",
    "print(k)\n"
   ]
  },
  {
   "cell_type": "code",
   "execution_count": 100,
   "metadata": {},
   "outputs": [
    {
     "name": "stdout",
     "output_type": "stream",
     "text": [
      "[2]\n"
     ]
    }
   ],
   "source": [
    "#Find the common elements between two lists methood1(unefficent)\n",
    "x=[1,1,1,1,1,1,2,1]\n",
    "y=[3,3,3,3,3,2]\n",
    "z=[]#to save common items\n",
    "for i in x: #using bubble sort :)\n",
    "    for j in y:\n",
    "        if i==j:\n",
    "            z.append(i)\n",
    "\n",
    "print(z)"
   ]
  },
  {
   "cell_type": "code",
   "execution_count": 104,
   "metadata": {},
   "outputs": [
    {
     "name": "stdout",
     "output_type": "stream",
     "text": [
      "common element in [1, 2, 3, 4, 5] and [3, 4, 5, 6, 7] is [3, 4, 5]\n"
     ]
    }
   ],
   "source": [
    "#Find the common elements between two lists methood2(efficent)\n",
    "list1 = [1, 2, 3, 4, 5]\n",
    "list2 = [3, 4, 5, 6, 7]\n",
    "\n",
    "common_elements=[i for i in list1 if i in list2]\n",
    "print(f\"common element in {list1} and {list2} is {common_elements}\")\n"
   ]
  },
  {
   "cell_type": "code",
   "execution_count": 105,
   "metadata": {},
   "outputs": [
    {
     "name": "stdout",
     "output_type": "stream",
     "text": [
      "[1, 2]\n"
     ]
    }
   ],
   "source": [
    "#find difference between two list\n",
    "list1 = [1, 2, 3, 4, 5]\n",
    "list2 = [3, 4, 5, 6, 7]\n",
    "difference = [i for i in list1 if i not in list2]\n",
    "print(difference)"
   ]
  },
  {
   "cell_type": "code",
   "execution_count": 109,
   "metadata": {},
   "outputs": [
    {
     "name": "stdout",
     "output_type": "stream",
     "text": [
      "[(1, 3), (2, 4), (3, 5), (4, 6), (5, 7)]\n",
      "[1, 2, 3, 4, 5, 3, 4, 5, 6, 7]\n"
     ]
    }
   ],
   "source": [
    "#Merge two lists.\n",
    "list1 = [1, 2, 3, 4, 5]\n",
    "list2 = [3, 4, 5, 6, 7]\n",
    "#methood 1\n",
    "list3=list(zip(list1,list2))\n",
    "print(list3)\n",
    "#methood 2\n",
    "list4=list1.copy()+list2.copy()\n",
    "print(list4)"
   ]
  },
  {
   "cell_type": "code",
   "execution_count": 111,
   "metadata": {},
   "outputs": [
    {
     "name": "stdout",
     "output_type": "stream",
     "text": [
      "[2, 4, 6, 8, 10]\n"
     ]
    }
   ],
   "source": [
    "#. Multiply all elements in a list by 2.\n",
    "list1 = [1, 2, 3, 4, 5]\n",
    "temp=[i*2 for i in list1 ]\n",
    "list1.clear()\n",
    "list1=temp\n",
    "temp.clear()\n",
    "print(list1)"
   ]
  },
  {
   "cell_type": "code",
   "execution_count": 112,
   "metadata": {},
   "outputs": [
    {
     "name": "stdout",
     "output_type": "stream",
     "text": [
      "[2, 4]\n"
     ]
    }
   ],
   "source": [
    "#Filter out all even numbers from a list.\n",
    "list1 = [1, 2, 3, 4, 5]\n",
    "list2=[i for i in list1 if i%2==0]\n",
    "print(list2)"
   ]
  },
  {
   "cell_type": "code",
   "execution_count": 114,
   "metadata": {},
   "outputs": [
    {
     "name": "stdout",
     "output_type": "stream",
     "text": [
      "['1', '2', '3', '4', '5']\n",
      "[1, 2, 3, 4, 5]\n"
     ]
    }
   ],
   "source": [
    "#26. Convert a list of strings to a list of integers.\n",
    "list1=[\"1\",\"2\",\"3\",\"4\",\"5\"]\n",
    "print(list1)\n",
    "list2=[int(i) for i in list1 ]\n",
    "print(list2)"
   ]
  },
  {
   "cell_type": "code",
   "execution_count": 115,
   "metadata": {},
   "outputs": [
    {
     "name": "stdout",
     "output_type": "stream",
     "text": [
      "[1, 2, 3, 4, 5]\n",
      "['1', '2', '3', '4', '5']\n"
     ]
    }
   ],
   "source": [
    "#Convert a list of integers to a list of strings.\n",
    "list1=[1,2,3,4,5]\n",
    "print(list1)\n",
    "list2=[str(i) for i in list1 ]\n",
    "print(list2)"
   ]
  },
  {
   "cell_type": "code",
   "execution_count": 1,
   "metadata": {},
   "outputs": [
    {
     "name": "stdout",
     "output_type": "stream",
     "text": [
      "[1, 2, 3, 4, 4, 5, 5, 6]\n",
      "[1, 2, 3, 4, 4, 5, 5, 6]\n"
     ]
    }
   ],
   "source": [
    "#Flatten a nested list.\n",
    "nested_list=[[1,2],[3,4],[4,5],[5,6]]\n",
    "list2=[]\n",
    "for i ,j in nested_list:\n",
    "      list2.append(i)\n",
    "      list2.append(j)\n",
    "print(list2)\n",
    "#methoods 2\n",
    "list3=[i for j in nested_list for i in j ]\n",
    "print(list3)"
   ]
  },
  {
   "cell_type": "code",
   "execution_count": 135,
   "metadata": {},
   "outputs": [
    {
     "name": "stdout",
     "output_type": "stream",
     "text": [
      "[0, 1, 1, 2, 3, 5, 8, 13, 21, 34]\n"
     ]
    }
   ],
   "source": [
    "#Create a list of the first 10 Fibonacci numbers.\n",
    "#0,1,1,2,3,5,8,13,21\n",
    "fibonacci_list=[0,1]\n",
    "first=0\n",
    "second=1\n",
    "for i in range(0,8):\n",
    "    sum=first+second\n",
    "    fibonacci_list.append(sum)\n",
    "    first,second=second,sum\n",
    "\n",
    "print(fibonacci_list)\n",
    "\n"
   ]
  },
  {
   "cell_type": "code",
   "execution_count": 140,
   "metadata": {},
   "outputs": [
    {
     "name": "stdout",
     "output_type": "stream",
     "text": [
      "list is sorted\n"
     ]
    }
   ],
   "source": [
    "list1=[1,1,3,4,5]\n",
    "# using ternay statements\n",
    "flag = all(list1[i] <= list1[i+1] for i in range(len(list1)-1))\n",
    "if flag:\n",
    "    print(\"list is sorted\")\n",
    "else:\n",
    "    print(\"not sorted!\")"
   ]
  },
  {
   "cell_type": "code",
   "execution_count": 150,
   "metadata": {},
   "outputs": [
    {
     "name": "stdout",
     "output_type": "stream",
     "text": [
      "[5, 1, 2, 3, 4]\n"
     ]
    }
   ],
   "source": [
    "# Rotate a list to the left by n positions.\n",
    "list1 = [1, 2, 3, 4, 5]\n",
    "n = int(input(\"Enter the left position to rotate: \"))\n",
    "\n",
    "if n > len(list1):\n",
    "    n = n % len(list1)\n",
    "\n",
    "rotated_list = list1[n:] + list1[:n]\n",
    "print(rotated_list)\n"
   ]
  },
  {
   "cell_type": "code",
   "execution_count": 157,
   "metadata": {},
   "outputs": [
    {
     "name": "stdout",
     "output_type": "stream",
     "text": [
      "[4, 5, 1, 2, 3]\n"
     ]
    }
   ],
   "source": [
    "# Rotate a list to the right by n positions.\n",
    "list1 = [1, 2, 3, 4, 5]\n",
    "n = int(input(\"Enter the right position to rotate: \"))\n",
    "\n",
    "if n > len(list1):\n",
    "    n = n % len(list1)\n",
    "\n",
    "rotated_list = list1[-n:] + list1[:-n]\n",
    "print(rotated_list)"
   ]
  },
  {
   "cell_type": "code",
   "execution_count": 8,
   "metadata": {},
   "outputs": [
    {
     "name": "stdout",
     "output_type": "stream",
     "text": [
      "[2, 3, 5, 7, 11, 13, 17, 19, 23, 29, 31, 37, 41, 43, 47]\n"
     ]
    }
   ],
   "source": [
    "#Create a list of prime numbers up to 50.\n",
    "list1=[]\n",
    "list1=[i for i in range(2, 51) if all(i % j != 0 for j in range(2,i))]\n",
    "print(list1)"
   ]
  },
  {
   "cell_type": "code",
   "execution_count": 18,
   "metadata": {},
   "outputs": [
    {
     "name": "stdout",
     "output_type": "stream",
     "text": [
      "[1, 2, 3, 4, 5]\n"
     ]
    }
   ],
   "source": [
    "#Split a list into chunks of size n\n",
    "list1=[1,2,3,4,5,6,7,8,9,10]\n",
    "n=int(input(\"enter the index to chunk list\"))\n",
    "list2=list1[0:n+1]\n",
    "print(list2)"
   ]
  },
  {
   "cell_type": "code",
   "execution_count": 22,
   "metadata": {},
   "outputs": [
    {
     "name": "stdout",
     "output_type": "stream",
     "text": [
      "9\n"
     ]
    }
   ],
   "source": [
    "#Find the second largest number in a list.\n",
    "list1=[1,2,3,4,5,6,7,8,9,10]\n",
    "x=max(list1)\n",
    "list1.remove(x)\n",
    "print(max(list1))\n"
   ]
  },
  {
   "cell_type": "code",
   "execution_count": 32,
   "metadata": {},
   "outputs": [
    {
     "name": "stdout",
     "output_type": "stream",
     "text": [
      "[1, 4, 9, 16, 25, 36, 49, 64, 81, 100]\n"
     ]
    }
   ],
   "source": [
    "#Replace every element in a list with its square.\n",
    "list1=[1,2,3,4,5,6,7,8,9,10]\n",
    "temp=[  i*i  for i in list1 ]\n",
    "list1.clear()\n",
    "list1=temp.copy()\n",
    "print(list1)"
   ]
  },
  {
   "cell_type": "code",
   "execution_count": 35,
   "metadata": {},
   "outputs": [
    {
     "name": "stdout",
     "output_type": "stream",
     "text": [
      "{'askari': 0, 'sabir': 1, 'ahmed': 2, 'usman': 3}\n"
     ]
    }
   ],
   "source": [
    "# Convert a list to a dictionary where list elements become keys and their\n",
    "#indices become values.\n",
    "list1=[\"askari\",\"sabir\",\"ahmed\",\"usman\"]\n",
    "list2=[i for i in range(0,len(list1)) ]\n",
    "dict1=dict(zip(list1,list2))\n",
    "print(dict1)"
   ]
  },
  {
   "cell_type": "code",
   "execution_count": 40,
   "metadata": {},
   "outputs": [
    {
     "name": "stdout",
     "output_type": "stream",
     "text": [
      "[2, 6, 9, 1, 8, 4, 7, 3, 5, 10]\n"
     ]
    }
   ],
   "source": [
    "#Shuffle the elements of a list randomly.\n",
    "import random\n",
    "list1=[1,2,3,4,5,6,7,8,9,10]\n",
    "random.shuffle(list1)\n",
    "print(list1)"
   ]
  },
  {
   "cell_type": "code",
   "execution_count": 48,
   "metadata": {},
   "outputs": [
    {
     "name": "stdout",
     "output_type": "stream",
     "text": [
      "[1, 4, 9, 16, 25, 36, 49, 64, 81]\n"
     ]
    }
   ],
   "source": [
    "#Create a list of the first 10 factorial numbers.\n",
    "list1=[]\n",
    "fact=1\n",
    "for i in range(1,11,1):\n",
    "        fact*=i\n",
    "        list1.append(fact)\n",
    "print(list2)"
   ]
  },
  {
   "cell_type": "code",
   "execution_count": 62,
   "metadata": {},
   "outputs": [
    {
     "name": "stdout",
     "output_type": "stream",
     "text": [
      "True\n"
     ]
    }
   ],
   "source": [
    "#Check if two lists have at least one element in common.\n",
    "list1 = [1, 2, 3, 4, 5, 6, 7, 8, 1]\n",
    "list2 = [10, 10, 10, 10, 1, 10,0 ]\n",
    "flag=False\n",
    "for i in list1:\n",
    "    for j in range(0,len(list1)+1):\n",
    "        if i==list1[j]:\n",
    "            flag=True\n",
    "            break\n",
    "        \n",
    "print(flag)\n"
   ]
  },
  {
   "cell_type": "code",
   "execution_count": 63,
   "metadata": {},
   "outputs": [
    {
     "name": "stdout",
     "output_type": "stream",
     "text": [
      "[]\n"
     ]
    }
   ],
   "source": [
    "#Remove all elements from a list.\n",
    "list1=[1,2,3,4,5,6,7,8,9,10]\n",
    "list1.clear()\n",
    "print(list1)"
   ]
  },
  {
   "cell_type": "code",
   "execution_count": 68,
   "metadata": {},
   "outputs": [
    {
     "name": "stdout",
     "output_type": "stream",
     "text": [
      "[1, 2, 0, 0, 3, 4, 5, 6, 7, 8, 9, 0]\n"
     ]
    }
   ],
   "source": [
    "#Replace negative numbers in a list with 0.\n",
    "list1=[1,2,-1,-1,3,4,5,6,7,8,9,-10]\n",
    "list2=[]\n",
    "for i in list1:\n",
    "    if i<0:\n",
    "        i=0\n",
    "        list2.append(i)\n",
    "    else:\n",
    "        list2.append(i)\n",
    "print(list2)\n"
   ]
  },
  {
   "cell_type": "code",
   "execution_count": 70,
   "metadata": {},
   "outputs": [
    {
     "name": "stdout",
     "output_type": "stream",
     "text": [
      "['my', 'name', 'is', 'askari']\n"
     ]
    }
   ],
   "source": [
    "# Convert a string into a list of words.\n",
    "string1=\"my name is askari\"\n",
    "print(string1.split())"
   ]
  },
  {
   "cell_type": "code",
   "execution_count": 81,
   "metadata": {},
   "outputs": [
    {
     "name": "stdout",
     "output_type": "stream",
     "text": [
      "my name is askari\n"
     ]
    },
    {
     "data": {
      "text/plain": [
       "str"
      ]
     },
     "execution_count": 81,
     "metadata": {},
     "output_type": "execute_result"
    }
   ],
   "source": [
    "#Convert a list of words into a string.\n",
    "list1=[\"my\",\"name\",\"is\",\"askari\"]\n",
    "list2=\" \".join(list1)\n",
    "print(list2)\n",
    "type(list2)\n"
   ]
  },
  {
   "cell_type": "code",
   "execution_count": 83,
   "metadata": {},
   "outputs": [
    {
     "name": "stdout",
     "output_type": "stream",
     "text": [
      "[2, 4, 8, 16, 32, 64, 128, 256, 512, 1024]\n"
     ]
    }
   ],
   "source": [
    "#Create a list of the first n powers of 2.\n",
    "z=int(input(\"enter size of list\"))\n",
    "list1=[2**i for i in range(1,z+1)]\n",
    "print(list1)"
   ]
  },
  {
   "cell_type": "code",
   "execution_count": 95,
   "metadata": {},
   "outputs": [
    {
     "name": "stdout",
     "output_type": "stream",
     "text": [
      "askari\n"
     ]
    }
   ],
   "source": [
    "#Find the longest string in a list of strings.\n",
    "list1=[\"my\",\"name\",\"is\",\"askari\"]\n",
    "result=max(list1, key=len)\n",
    "print(result)\n"
   ]
  },
  {
   "cell_type": "code",
   "execution_count": 96,
   "metadata": {},
   "outputs": [
    {
     "name": "stdout",
     "output_type": "stream",
     "text": [
      "my\n"
     ]
    }
   ],
   "source": [
    "#Find the shortest string in a list of strings.\n",
    "list1=[\"my\",\"name\",\"is\",\"askari\"]\n",
    "result=min(list1, key=len)\n",
    "print(result)\n"
   ]
  },
  {
   "cell_type": "code",
   "execution_count": 101,
   "metadata": {},
   "outputs": [
    {
     "name": "stdout",
     "output_type": "stream",
     "text": [
      "[1, 3, 6, 10]\n"
     ]
    }
   ],
   "source": [
    "#Create a list of the first `n` triangular numbers\n",
    "list1=[]\n",
    "n=int(input(\"enter value to find triangle number till:\"))\n",
    "list1=[i*(i+1)//2 for i in range(1,n+1) ]\n",
    "print(list1)"
   ]
  },
  {
   "cell_type": "code",
   "execution_count": 124,
   "metadata": {},
   "outputs": [
    {
     "name": "stdout",
     "output_type": "stream",
     "text": [
      "[1, 2, 3, 4, 5, 6, 7, 8, 9] can contain sub list[1, 2, 3, 9] is True\n"
     ]
    }
   ],
   "source": [
    "#Check if a list contains another list as a subsequence.\n",
    "list1=[1,2,3,4,5,6,7,8,9]\n",
    "list2=[1,2,3,9]\n",
    "flag=False\n",
    "for i in list2:\n",
    " if list1.__contains__(i):\n",
    "  flag=True\n",
    "print(f\"{list1} can contain sub list{list2} is {flag}\")"
   ]
  },
  {
   "cell_type": "code",
   "execution_count": 126,
   "metadata": {},
   "outputs": [
    {
     "name": "stdout",
     "output_type": "stream",
     "text": [
      "[1, 9, 3, 4, 5, 6, 7, 8, 2]\n"
     ]
    }
   ],
   "source": [
    "#. Swap two elements in a list by their indices.\n",
    "list1=[1,2,3,4,5,6,7,8,9]\n",
    "x=int(input(\"enter element 1\"))\n",
    "y=int(input(\"enter element\"))\n",
    "k=list1.index(x)\n",
    "z=list1.index(y)\n",
    "list1[k],list1[z]=y,x\n",
    "print(list1)"
   ]
  },
  {
   "cell_type": "code",
   "execution_count": 12,
   "metadata": {},
   "outputs": [],
   "source": []
  }
 ],
 "metadata": {
  "kernelspec": {
   "display_name": "Python 3",
   "language": "python",
   "name": "python3"
  },
  "language_info": {
   "codemirror_mode": {
    "name": "ipython",
    "version": 3
   },
   "file_extension": ".py",
   "mimetype": "text/x-python",
   "name": "python",
   "nbconvert_exporter": "python",
   "pygments_lexer": "ipython3",
   "version": "3.9.6"
  }
 },
 "nbformat": 4,
 "nbformat_minor": 2
}
