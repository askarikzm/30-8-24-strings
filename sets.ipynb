{
 "cells": [
  {
   "cell_type": "markdown",
   "metadata": {},
   "source": [
    "Set Based Practice Problem :"
   ]
  },
  {
   "cell_type": "code",
   "execution_count": 1,
   "metadata": {},
   "outputs": [
    {
     "name": "stdout",
     "output_type": "stream",
     "text": [
      "<class 'set'> {1, 2, 3, 4, 5}\n"
     ]
    }
   ],
   "source": [
    "#1. Create a set with integers from 1 to 5.\n",
    "x={1,2,3,4,5}\n",
    "print(type(x),x)"
   ]
  },
  {
   "cell_type": "code",
   "execution_count": 2,
   "metadata": {},
   "outputs": [
    {
     "name": "stdout",
     "output_type": "stream",
     "text": [
      "{1, 2, 3, 4, 5, 6}\n"
     ]
    }
   ],
   "source": [
    "#2. Add an element to a set.\n",
    "x={1,2,3,4,5}\n",
    "x.add(6)\n",
    "print(x)"
   ]
  },
  {
   "cell_type": "code",
   "execution_count": 8,
   "metadata": {},
   "outputs": [
    {
     "name": "stdout",
     "output_type": "stream",
     "text": [
      "value is not present\n"
     ]
    }
   ],
   "source": [
    "#3. Remove an element from a set\n",
    "x={1,2,3,4,5}\n",
    "try:\n",
    "  x.remove(8)\n",
    "except KeyError as e:\n",
    "  print(\"value is not present\")\n",
    "else:\n",
    "  print(\"remove successfuly\",x)"
   ]
  },
  {
   "cell_type": "code",
   "execution_count": 10,
   "metadata": {},
   "outputs": [
    {
     "name": "stdout",
     "output_type": "stream",
     "text": [
      "False\n"
     ]
    }
   ],
   "source": [
    "#4. Check if an element exists in a set.\n",
    "x={1,2,3,4,5,6}\n",
    "flag= x.__contains__(5)\n",
    "print(flag)\n"
   ]
  },
  {
   "cell_type": "code",
   "execution_count": 11,
   "metadata": {},
   "outputs": [
    {
     "name": "stdout",
     "output_type": "stream",
     "text": [
      "6\n"
     ]
    }
   ],
   "source": [
    "#5. Find the length of a set without using the`len()` function.\n",
    "x={1,2,3,4,5,6}\n",
    "print(len(x))"
   ]
  },
  {
   "cell_type": "code",
   "execution_count": 14,
   "metadata": {},
   "outputs": [
    {
     "name": "stdout",
     "output_type": "stream",
     "text": [
      "set()\n"
     ]
    }
   ],
   "source": [
    "#6. Clear all elements from a set.\n",
    "x={1,2,3,4,5,6}\n",
    "x.clear()\n",
    "print(x)"
   ]
  },
  {
   "cell_type": "code",
   "execution_count": 15,
   "metadata": {},
   "outputs": [
    {
     "name": "stdout",
     "output_type": "stream",
     "text": [
      "{2, 4, 6, 8, 10}\n"
     ]
    }
   ],
   "source": [
    "#7. Create a set of even numbers from 1 to 10.\n",
    "x={i for i in range(1,11) if i%2==0}\n",
    "print(x)"
   ]
  },
  {
   "cell_type": "code",
   "execution_count": 16,
   "metadata": {},
   "outputs": [
    {
     "name": "stdout",
     "output_type": "stream",
     "text": [
      "{1, 3, 5, 7, 9}\n"
     ]
    }
   ],
   "source": [
    "#8. Create a set of odd numbers from 1 to 10.\n",
    "x={i for i in range(1,11) if i%2!=0}\n",
    "print(x)"
   ]
  },
  {
   "cell_type": "code",
   "execution_count": 17,
   "metadata": {},
   "outputs": [
    {
     "name": "stdout",
     "output_type": "stream",
     "text": [
      "{1, 2, 3, 4, 5, 6, 7, 8, 9, 10}\n"
     ]
    }
   ],
   "source": [
    "#9. Find the union of two sets.\n",
    "x1={1,2,3,4,5}\n",
    "x2={6,7,8,9,10}\n",
    "print(x1.union(x2))"
   ]
  },
  {
   "cell_type": "code",
   "execution_count": 25,
   "metadata": {},
   "outputs": [
    {
     "name": "stdout",
     "output_type": "stream",
     "text": [
      "{6}\n"
     ]
    }
   ],
   "source": [
    "#10. Find the intersection of two sets.\n",
    "x1={1,2,3,4,5,6}\n",
    "x2={6,7,8,9,10}\n",
    "print(x1.intersection(x2))"
   ]
  },
  {
   "cell_type": "code",
   "execution_count": 26,
   "metadata": {},
   "outputs": [
    {
     "name": "stdout",
     "output_type": "stream",
     "text": [
      "{1, 2, 3, 4, 5}\n"
     ]
    }
   ],
   "source": [
    "#11. Find the difference between two sets.\n",
    "x1={1,2,3,4,5,6}\n",
    "x2={6,7,8,9,10}\n",
    "x3=x1.difference(x2)\n",
    "print(x3)"
   ]
  },
  {
   "cell_type": "code",
   "execution_count": 43,
   "metadata": {},
   "outputs": [
    {
     "name": "stdout",
     "output_type": "stream",
     "text": [
      "False\n"
     ]
    }
   ],
   "source": [
    "x1 = {1, 2, 3, 4, 5, frozenset({6, 7, 8, 9})}\n",
    "x2 = {6, 7, 8, 9}\n",
    "flag = x1.issubset(x2)\n",
    "print(flag)"
   ]
  },
  {
   "cell_type": "code",
   "execution_count": 42,
   "metadata": {},
   "outputs": [
    {
     "name": "stdout",
     "output_type": "stream",
     "text": [
      "False\n"
     ]
    }
   ],
   "source": [
    "#13. Check if a set is a superset of another set.\n",
    "x1 = {1, 2, 3, 4, 5, frozenset({6, 7, 8, 9})}\n",
    "x2 = {6, 7, 8, 9}\n",
    "\n",
    "flag = x1.issuperset(x2)\n",
    "print(flag)"
   ]
  },
  {
   "cell_type": "code",
   "execution_count": 45,
   "metadata": {},
   "outputs": [
    {
     "name": "stdout",
     "output_type": "stream",
     "text": [
      "{1, 2, 3, 4, 5, 6, 7}\n"
     ]
    }
   ],
   "source": [
    "#14. Create a set from a list.\n",
    "x=[1,2,3,4,5,6,7,7]\n",
    "x=set(x)\n",
    "print(x)"
   ]
  },
  {
   "cell_type": "code",
   "execution_count": 46,
   "metadata": {},
   "outputs": [
    {
     "name": "stdout",
     "output_type": "stream",
     "text": [
      "[1, 2, 3, 4, 5, 6, 7]\n"
     ]
    }
   ],
   "source": [
    "#15. Convert a set to a list.\n",
    "x={1,2,3,4,5,6,7,7} #didn't get duplicate value\n",
    "x=list(x)\n",
    "print(x)"
   ]
  },
  {
   "cell_type": "code",
   "execution_count": 65,
   "metadata": {},
   "outputs": [
    {
     "name": "stdout",
     "output_type": "stream",
     "text": [
      "{2, 3, 4, 5, 6, 7, 8, 9}\n"
     ]
    }
   ],
   "source": [
    "#16. Remove a random element from a set.\n",
    "import random\n",
    "x={1,2,3,4,5,6,7,8,9}\n",
    "x.remove(random.randint(1,10))\n",
    "print(x)"
   ]
  },
  {
   "cell_type": "code",
   "execution_count": 71,
   "metadata": {},
   "outputs": [
    {
     "name": "stdout",
     "output_type": "stream",
     "text": [
      "{2, 3, 4, 5, 6, 7, 8, 9}\n"
     ]
    }
   ],
   "source": [
    "#17. Pop an element from a set.\n",
    "x={1,2,3,4,5,6,7,8,9}\n",
    "x.pop() #remove first element\n",
    "print(x)\n"
   ]
  },
  {
   "cell_type": "code",
   "execution_count": 82,
   "metadata": {},
   "outputs": [
    {
     "name": "stdout",
     "output_type": "stream",
     "text": [
      " element in common\n"
     ]
    }
   ],
   "source": [
    "#18. Check if two sets have no elements in common.\n",
    "x={1,2,3,4,5}\n",
    "y={6,7,8,9,10}\n",
    "x.difference(y)\n",
    "if len(x)!=0:\n",
    "    print(\" element in common\")\n",
    "else:\n",
    "    print(\"contains no common elements\")"
   ]
  },
  {
   "cell_type": "code",
   "execution_count": 83,
   "metadata": {},
   "outputs": [
    {
     "name": "stdout",
     "output_type": "stream",
     "text": [
      "{4, 5, 7, 8}\n"
     ]
    }
   ],
   "source": [
    "#19. Find the symmetric difference between two sets.\n",
    "x={1,2,3,4,5}\n",
    "y={1,2,3,7,8}\n",
    "print(x.symmetric_difference(y))"
   ]
  },
  {
   "cell_type": "code",
   "execution_count": 86,
   "metadata": {},
   "outputs": [
    {
     "name": "stdout",
     "output_type": "stream",
     "text": [
      "{1, 2, 3, 4, 5, 7, 8}\n"
     ]
    }
   ],
   "source": [
    "#20. Update a set with elements from another set.\n",
    "x={1,2,3,4,5}\n",
    "y={1,2,3,7,8}\n",
    "for i in y:\n",
    "    x.add(i)\n",
    "print(x)"
   ]
  },
  {
   "cell_type": "code",
   "execution_count": 96,
   "metadata": {},
   "outputs": [
    {
     "name": "stdout",
     "output_type": "stream",
     "text": [
      "{2, 3, 5, 7, 11}\n"
     ]
    }
   ],
   "source": [
    "#21. Create a set of the first 5 prime numbers.\n",
    "x = {i for i in range(2, 13) if all(i % j != 0 for j in range(2, int(i**0.5) + 1))}\n",
    "first_five_primes = set(list(x)[:5])\n",
    "\n",
    "print(first_five_primes)\n"
   ]
  },
  {
   "cell_type": "code",
   "execution_count": 99,
   "metadata": {},
   "outputs": [
    {
     "name": "stdout",
     "output_type": "stream",
     "text": [
      "sets contain same elements\n"
     ]
    }
   ],
   "source": [
    "#22. Check if two sets are identical\n",
    "x={1,2,3,4,5}\n",
    "y={1,2,3,4,5}\n",
    "x=x.symmetric_difference(y)\n",
    "if len(x)==0:\n",
    "    print(\"sets contain same elements\")\n",
    "else:\n",
    "    print(\"contain differents elements\")"
   ]
  },
  {
   "cell_type": "code",
   "execution_count": 102,
   "metadata": {},
   "outputs": [
    {
     "name": "stdout",
     "output_type": "stream",
     "text": [
      "frozenset({1, 2, 3, 4, 5})\n"
     ]
    }
   ],
   "source": [
    "#23. Create a frozen set.\n",
    "x=frozenset({1,2,3,4,5})\n",
    "print(x)"
   ]
  },
  {
   "cell_type": "code",
   "execution_count": 106,
   "metadata": {},
   "outputs": [
    {
     "name": "stdout",
     "output_type": "stream",
     "text": [
      "False\n"
     ]
    }
   ],
   "source": [
    "#24. Check if a set is disjoint with another set.\n",
    "x1={1,2,3,4,5}\n",
    "x2={6,7,8,9,5}\n",
    "flag=x1.isdisjoint(x2)\n",
    "print(flag)"
   ]
  },
  {
   "cell_type": "code",
   "execution_count": 107,
   "metadata": {},
   "outputs": [
    {
     "name": "stdout",
     "output_type": "stream",
     "text": [
      "{1, 4, 9, 16, 25}\n"
     ]
    }
   ],
   "source": [
    "#25. Create a set of squares of numbers from 1 to 5.\n",
    "set1={i*i for i in range(1,6)}\n",
    "print(set1)"
   ]
  },
  {
   "cell_type": "code",
   "execution_count": 109,
   "metadata": {},
   "outputs": [
    {
     "name": "stdout",
     "output_type": "stream",
     "text": [
      "{2, 4, 6, 8, 10}\n"
     ]
    }
   ],
   "source": [
    "#26. Filter out all even numbers from a set.\n",
    "set1={1,2,3,4,5,6,7,8,9,10}\n",
    "set1={i for i in set1 if i%2==0}\n",
    "print(set1)"
   ]
  },
  {
   "cell_type": "code",
   "execution_count": 110,
   "metadata": {},
   "outputs": [
    {
     "name": "stdout",
     "output_type": "stream",
     "text": [
      "{2, 4, 6, 8, 10, 12, 14, 16, 18, 20}\n"
     ]
    }
   ],
   "source": [
    "#27. Multiply all elements in a set by 2.\n",
    "set1={1,2,3,4,5,6,7,8,9,10}\n",
    "set1={i*2 for i in set1 }\n",
    "print(set1)"
   ]
  },
  {
   "cell_type": "code",
   "execution_count": 125,
   "metadata": {},
   "outputs": [
    {
     "name": "stdout",
     "output_type": "stream",
     "text": [
      "{121, 140, 143, 176, 144, 147, 120, 153, 157}\n"
     ]
    }
   ],
   "source": [
    "#28. Create a set of random numbers.\n",
    "import random\n",
    "set1=set({})\n",
    "for i in range(10):\n",
    " set1.add(random.randint(100,200))\n",
    "\n",
    "print(set1)"
   ]
  },
  {
   "cell_type": "code",
   "execution_count": 126,
   "metadata": {},
   "outputs": [
    {
     "name": "stdout",
     "output_type": "stream",
     "text": [
      "set is empty:\n"
     ]
    }
   ],
   "source": [
    "#29. Check if a set is empty.\n",
    "set1=set({})\n",
    "if len(set1)==0:\n",
    "    print(\"set is empty\")\n",
    "else:\n",
    "    print(\"not empty\")"
   ]
  },
  {
   "cell_type": "code",
   "execution_count": 129,
   "metadata": {},
   "outputs": [
    {
     "name": "stdout",
     "output_type": "stream",
     "text": [
      "{1, 2, 3, 4, 5, frozenset({8, 9, 6, 7})}\n"
     ]
    }
   ],
   "source": [
    "#30. Create a nested set (hint: use frozenset).\n",
    "x1={1,2,3,4,5,frozenset({6,7,8,9})}\n",
    "print(x1)"
   ]
  },
  {
   "cell_type": "code",
   "execution_count": 130,
   "metadata": {},
   "outputs": [
    {
     "name": "stdout",
     "output_type": "stream",
     "text": [
      "{1, 2, 4, 5, 6, 7, 8, 9, 10}\n"
     ]
    }
   ],
   "source": [
    "#31. Remove an element from a set using the discard method.\n",
    "x1={1,2,3,4,5,6,7,8,9,10}\n",
    "x1.discard(3)\n",
    "print(x1)"
   ]
  },
  {
   "cell_type": "code",
   "execution_count": 137,
   "metadata": {},
   "outputs": [
    {
     "name": "stdout",
     "output_type": "stream",
     "text": [
      "elements of two sets are different\n"
     ]
    }
   ],
   "source": [
    "#32. Compare two sets.\n",
    "x1={1,2,3,4,5}\n",
    "x2={6,7,8,9,10}\n",
    "if x1.isdisjoint(x2):\n",
    "    print(\"elements of two sets are different\")\n",
    "else:\n",
    "    print(\"elments of two sets have atleast one common intersection\")"
   ]
  },
  {
   "cell_type": "code",
   "execution_count": 140,
   "metadata": {},
   "outputs": [
    {
     "name": "stdout",
     "output_type": "stream",
     "text": [
      "{'z', 'i', ' ', 'j', 'g', 'n', 'o', 'w', 'y', 'q', 'c', 'k', 'e', 'b', 'm', 'l', 'f', 'r', 'u', 'v', 'x', 'a', 'p', 'd'}\n"
     ]
    }
   ],
   "source": [
    "#33. Create a set from a string\n",
    "x1=\" a quick brown fox jump over a lazy dog\"\n",
    "print(set(x1))"
   ]
  },
  {
   "cell_type": "code",
   "execution_count": 142,
   "metadata": {},
   "outputs": [
    {
     "name": "stdout",
     "output_type": "stream",
     "text": [
      "{1, 2, 3, 4, 5, 6, 7, 8}\n"
     ]
    }
   ],
   "source": [
    "#34. Convert a set of strings to a set of integers.\n",
    "x={'1', '2', '2', '3', '4', ' 5', '6', '7', '8'}\n",
    "x={int(i) for i in x}\n",
    "print(x)\n"
   ]
  },
  {
   "cell_type": "code",
   "execution_count": 143,
   "metadata": {},
   "outputs": [
    {
     "name": "stdout",
     "output_type": "stream",
     "text": [
      "{'6', '8', '2', '5', '7', '4', '3', '1'}\n"
     ]
    }
   ],
   "source": [
    "#35. Convert a set of integers to a set of strings.\n",
    "x={1, 2, 3, 4, 5, 6, 7, 8}\n",
    "x={str(i) for i in x }\n",
    "print(x)"
   ]
  },
  {
   "cell_type": "code",
   "execution_count": 144,
   "metadata": {},
   "outputs": [
    {
     "name": "stdout",
     "output_type": "stream",
     "text": [
      "{1, 2, 3, 4, 5, 6}\n"
     ]
    }
   ],
   "source": [
    "#36. Create a set from a tuple.\n",
    "x=(1,2,3,4,5,6)\n",
    "x=set(x)\n",
    "print(x)"
   ]
  },
  {
   "cell_type": "code",
   "execution_count": 145,
   "metadata": {},
   "outputs": [
    {
     "name": "stdout",
     "output_type": "stream",
     "text": [
      "(1, 2, 3, 4, 5, 6)\n"
     ]
    }
   ],
   "source": [
    "#37. Convert a set to a tuple.\n",
    "x={1,2,3,4,5,6}\n",
    "x=tuple(x)\n",
    "print(x)"
   ]
  },
  {
   "cell_type": "code",
   "execution_count": 146,
   "metadata": {},
   "outputs": [
    {
     "name": "stdout",
     "output_type": "stream",
     "text": [
      "6\n"
     ]
    }
   ],
   "source": [
    "#38. Find the maximum value in a set.\n",
    "x={1,2,3,4,5,6}\n",
    "print(max(x))"
   ]
  },
  {
   "cell_type": "code",
   "execution_count": 147,
   "metadata": {},
   "outputs": [
    {
     "name": "stdout",
     "output_type": "stream",
     "text": [
      "1\n"
     ]
    }
   ],
   "source": [
    "#39. Find the minimum value in a set.\n",
    "x={1,2,3,4,5,6}\n",
    "print(min(x))"
   ]
  },
  {
   "cell_type": "code",
   "execution_count": 148,
   "metadata": {},
   "outputs": [
    {
     "name": "stdout",
     "output_type": "stream",
     "text": [
      "{1, 2, 3, 5, 45}\n"
     ]
    }
   ],
   "source": [
    "n=int(input(\"enter the size of set\"))\n",
    "x=set({})\n",
    "for  i in  range(n):\n",
    "    z=int(input(\"enter the value\"))\n",
    "    x.add(z)\n",
    "\n",
    "print(x)\n"
   ]
  },
  {
   "cell_type": "code",
   "execution_count": 150,
   "metadata": {},
   "outputs": [
    {
     "name": "stdout",
     "output_type": "stream",
     "text": [
      "intersection is not empty\n"
     ]
    }
   ],
   "source": [
    "#41. Check if the intersection of two sets is empty.\n",
    "x1={2,2,2,2,2}\n",
    "x2={2,2,2,2,2}\n",
    "if len(x1.intersection(x2))>0:\n",
    "    print(\"intersection is not empty\")\n",
    "else:\n",
    "    print(\"intersection is empty\")\n"
   ]
  },
  {
   "cell_type": "code",
   "execution_count": 152,
   "metadata": {},
   "outputs": [
    {
     "name": "stdout",
     "output_type": "stream",
     "text": [
      "{0, 1, 2, 3, 5}\n"
     ]
    }
   ],
   "source": [
    "#42. Create a set of the first 5 Fibonacci numbers\n",
    "first_no=0\n",
    "second_no=1\n",
    "x=set({})\n",
    "for i in range(6):\n",
    "    x.add(first_no)\n",
    "    sum=first_no+second_no\n",
    "    first_no=second_no\n",
    "    second_no=sum\n",
    "print(x)"
   ]
  },
  {
   "cell_type": "code",
   "execution_count": 153,
   "metadata": {},
   "outputs": [
    {
     "name": "stdout",
     "output_type": "stream",
     "text": [
      "{1, 2, 3, 4, 5, 6, 7, 8, 9, 10}\n"
     ]
    }
   ],
   "source": [
    "#43. Remove duplicates from a list using sets.\n",
    "x=[1,1,2,2,3,3,4,4,5,5,6,6,7,7,8,8,9,9,10,10]\n",
    "print(set(x))"
   ]
  },
  {
   "cell_type": "code",
   "execution_count": 156,
   "metadata": {},
   "outputs": [
    {
     "name": "stdout",
     "output_type": "stream",
     "text": [
      "doesnot contain elemets\n"
     ]
    }
   ],
   "source": [
    "#44. Check if two sets have the same elements, regardless of their count.\n",
    "x1={1,2,3,4,5,6,7}\n",
    "x2={7,8,9,10}\n",
    "if len(x1.intersection(x2))>0 :\n",
    "    print(\"contain same elements\")\n",
    "else:\n",
    "    print(\"doesnot contain elemets\")"
   ]
  },
  {
   "cell_type": "code",
   "execution_count": 161,
   "metadata": {},
   "outputs": [
    {
     "name": "stdout",
     "output_type": "stream",
     "text": [
      "{32, 64, 2, 4, 8, 16}\n"
     ]
    }
   ],
   "source": [
    "#45. Create a set of the first `n`powers of 2.\n",
    "n=int(input(\"enter value of\"))\n",
    "x={2**i for i in range(1,n+1) }\n",
    "print(x)"
   ]
  },
  {
   "cell_type": "code",
   "execution_count": 162,
   "metadata": {},
   "outputs": [
    {
     "name": "stdout",
     "output_type": "stream",
     "text": [
      "{6}\n"
     ]
    }
   ],
   "source": [
    "#46. Find the common elements between a set and a list.\n",
    "list1=[1,2,3,4,5,6,6,6]\n",
    "set_x={7,8,9,10,6}\n",
    "print(set_x.intersection(set(list1)))"
   ]
  },
  {
   "cell_type": "code",
   "execution_count": 163,
   "metadata": {},
   "outputs": [
    {
     "name": "stdout",
     "output_type": "stream",
     "text": [
      "{1, 3, 6, 10, 15}\n"
     ]
    }
   ],
   "source": [
    "#47. Create a set of the first `n` triangular numbers.\n",
    "n=int(input(\"enter value till print triangular number\"))\n",
    "x={i*(i+1)//2 for i in range(1,n+1)}\n",
    "print(x)"
   ]
  },
  {
   "cell_type": "code",
   "execution_count": 168,
   "metadata": {},
   "outputs": [
    {
     "name": "stdout",
     "output_type": "stream",
     "text": [
      "False\n"
     ]
    }
   ],
   "source": [
    "#48. Check if a set contains another set as a subset.\n",
    "x1 = {1, 2, 3, 4, 5, frozenset({6, 7, 8, 9, 20})}\n",
    "x2 = {6, 7, 8, 9, 20}\n",
    "\n",
    "flag = x2.issubset(x1)\n",
    "print(flag)\n"
   ]
  },
  {
   "cell_type": "code",
   "execution_count": 169,
   "metadata": {},
   "outputs": [
    {
     "name": "stdout",
     "output_type": "stream",
     "text": [
      "{0, 1}\n"
     ]
    }
   ],
   "source": [
    "#49. Create a set of alternating 1s and 0s of length `n`.\n",
    "n=int(input(\"enter value of n\"))\n",
    "x={1 if i%2==0 else 0 for i in range(1,n+1)}\n",
    "print(x) # this will give one and zero only for time as set doesn't contains repeated values"
   ]
  },
  {
   "cell_type": "code",
   "execution_count": 173,
   "metadata": {},
   "outputs": [
    {
     "name": "stdout",
     "output_type": "stream",
     "text": [
      "{1, 2, 3, 4, 5, 6, 7, 8, 9, 10}\n"
     ]
    }
   ],
   "source": [
    "#50. Merge multiple sets into one.\n",
    "x1={1,2,3,4,5}\n",
    "x2={6,7,8,9,10}\n",
    "x1=x2.union(x1)\n",
    "print(x1)"
   ]
  }
 ],
 "metadata": {
  "kernelspec": {
   "display_name": "Python 3",
   "language": "python",
   "name": "python3"
  },
  "language_info": {
   "codemirror_mode": {
    "name": "ipython",
    "version": 3
   },
   "file_extension": ".py",
   "mimetype": "text/x-python",
   "name": "python",
   "nbconvert_exporter": "python",
   "pygments_lexer": "ipython3",
   "version": "3.9.6"
  }
 },
 "nbformat": 4,
 "nbformat_minor": 2
}
